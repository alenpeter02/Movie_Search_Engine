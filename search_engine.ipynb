{
 "cells": [
  {
   "cell_type": "code",
   "execution_count": null,
   "id": "77767ef9-fbb9-44ba-8cdf-cc3464054901",
   "metadata": {
    "tags": []
   },
   "outputs": [],
   "source": [
    "import sqlite3\n",
    "import csv\n",
    "conn = sqlite3.connect(r\"D:\\Work\\Innmoatics\\searchengine\\Subtitles\\eng_subtitles_database.db\")\n",
    "\n",
    "# Create a cursor object\n",
    "cursor = conn.cursor()\n",
    "\n",
    "# Execute a SELECT query\n",
    "cursor.execute('SELECT * FROM zipfiles')\n",
    "rows = cursor.fetchall()\n",
    "csv_file_path = 'D:\\Work\\Innmoatics\\searchengine\\Subtitles\\subtitle_data.csv'\n",
    "\n",
    "# Write fetched data to a CSV file\n",
    "with open(csv_file_path, 'w', newline='') as csv_file:\n",
    "    csv_writer = csv.writer(csv_file)\n",
    "conn.close()"
   ]
  },
  {
   "cell_type": "code",
   "execution_count": null,
   "id": "2588ec55-1428-49a9-bc97-bd6ce63ca3bd",
   "metadata": {},
   "outputs": [],
   "source": [
    "import zipfile\n",
    "import io\n",
    "def decomp_decode(data):\n",
    "    with zipfile.ZipFile(io.BytesIO(data)) as zip_file:\n",
    "        # Extract the first file in the ZIP archive\n",
    "        file_list = zip_file.namelist()\n",
    "        first_file = file_list[0]\n",
    "        decompressed_data = zip_file.read(first_file)\n",
    "    return decompressed_data.decode('latin-1')"
   ]
  },
  {
   "cell_type": "code",
   "execution_count": null,
   "id": "9467c7ed-5b88-40c1-a612-90e6508f0061",
   "metadata": {},
   "outputs": [],
   "source": []
  },
  {
   "cell_type": "code",
   "execution_count": null,
   "id": "7377b00c-f56e-418f-ac51-0605b925ced5",
   "metadata": {},
   "outputs": [],
   "source": [
    "df['content'] = df['content'].apply(lambda x : decomp_decode(x))"
   ]
  },
  {
   "cell_type": "code",
   "execution_count": 3,
   "id": "21fd974d-4c16-46ce-a7ab-5d3b29a94b89",
   "metadata": {
    "tags": []
   },
   "outputs": [],
   "source": [
    "sampled_df = df.sample(frac=0.1, random_state=42)"
   ]
  },
  {
   "cell_type": "code",
   "execution_count": 7,
   "id": "20f6e893-ff04-40f7-87c9-17703bf9a693",
   "metadata": {
    "tags": []
   },
   "outputs": [],
   "source": [
    "from bs4 import BeautifulSoup\n",
    "import re\n",
    "from nltk.stem import WordNetLemmatizer\n",
    "import os\n"
   ]
  },
  {
   "cell_type": "code",
   "execution_count": 8,
   "id": "f876277f-bb62-4ec3-b7ed-04c7b4dab34a",
   "metadata": {
    "tags": []
   },
   "outputs": [],
   "source": [
    "def preprocess_text(text):\n",
    "    # Initialize lemmatizer\n",
    "    lemmatizer = WordNetLemmatizer()\n",
    "\n",
    "    # Check if text is a file path\n",
    "    if os.path.isfile(text):\n",
    "        # Read the contents of the file\n",
    "        with open(text, 'r', encoding='utf-8') as file:\n",
    "            text = file.read()\n",
    "\n",
    "    # Remove HTML tags\n",
    "    text = BeautifulSoup(text, 'html.parser').get_text()\n",
    "\n",
    "    # Preprocess text\n",
    "    text = re.sub(\"[^a-zA-Z]\", \" \", text)\n",
    "    text = text.lower()\n",
    "    tokens = text.split()\n",
    "    tokens = [lemmatizer.lemmatize(token) for token in tokens]\n",
    "    preprocessed_text = ' '.join(tokens)\n",
    "\n",
    "    return preprocessed_text"
   ]
  },
  {
   "cell_type": "code",
   "execution_count": 9,
   "id": "8a05c3c5-a153-4752-9d7e-1984ea58d3d3",
   "metadata": {
    "tags": []
   },
   "outputs": [
    {
     "name": "stderr",
     "output_type": "stream",
     "text": [
      "C:\\Users\\alenp\\AppData\\Local\\Temp\\ipykernel_16032\\1094262504.py:12: MarkupResemblesLocatorWarning: The input looks more like a filename than markup. You may want to open this file and pass the filehandle into Beautiful Soup.\n",
      "  text = BeautifulSoup(text, 'html.parser').get_text()\n"
     ]
    }
   ],
   "source": [
    "# Apply preprocess_text function to 'content' column\n",
    "sampled_df['clean_text'] = sampled_df['content'].apply(preprocess_text)"
   ]
  },
  {
   "cell_type": "code",
   "execution_count": 10,
   "id": "4927867d-5e50-47a2-9ca0-67ebd4edf2d0",
   "metadata": {
    "tags": []
   },
   "outputs": [
    {
     "name": "stdout",
     "output_type": "stream",
     "text": [
      "watch any video online with open subtitle free browser extension osdb link ext it could ve been just another summer but a i set foot on the sand that summer suddenly felt different like it wa going to be the summer that would change my life the summer of freedom the summer of endless possibility the summer of ooh aah ooh oh oh oh ooh that wa the summer of you and me you re quite the dancer why did you stop come on keep dancing whatever i m kidding don t get mad huh what hey i m just going to get my towel what stop that you thought i wa gonna kiss you no excuse me i wanna kiss you but not just yet what do you mean not yet only when you re my girl what do you mean your girl my girlfriend miss a if you wish and don t call me miss don t pretend to be a gentleman when you re clearly not so what should i call you rude snob bitch and you douche handsome conceited just like you huh jerk exactly your type leave me alone steph aha steph i ll just call you tep remove the s and the f by the way i m tonio will you still be here tomorrow don t leave yet i m going to court you i chose to walk away from you but fate had a different plan councilor we re teaching basic english literacy we ll be teaching the child how to read and write in english is that so yes how long will this program run if it s okay the entire summer i thought i could escape you but you somehow found me again tep what are you doing here you couldn t resist me huh so you re courting me instead excuse me i m not here to court you oh so you re here to be courted yeah no uncle tonio she s the one who will teach u this summer don t believe that story that s just her excuse to get me to date her gramps uncle erning aunt elma this is tep my suitor approved approved you passed mmm i don t approve excuse u we ll be going now all right my dear thank you sir we ll go ahead excuse me please oh no tep tep are you okay i said excuse me we re not yet a couple and we re already fighting he ha a point oh tonio seventy snack seven seven silvery silvery sheep sheep do you know what that is in filipino no filipino seventy seven silvery sheep why say it in english if you can say it in filipino because they need to learn how to read write and speak properly in order to make a living why are you here anyway tep they don t need to learn that to make a living instead of seventy seven slippery what what did you say instead of teaching them that you should just teach them how to swim in a sinking boat english proficiency won t save you you ll be dead a you re well aware that s not part of the lesson so why are you disturbing u so irritable why are you so hot headed maybe we should just go swimming sound fun what hey kid do you wanna go swimming yes swimming swimming swimming okay you really want to swim do you wanna swim i do let s go you first so that s how you want it swimming swimming hey tonio swimming swimming put me down swimming swimming so this is what you want huh wait a minute what now wait why are you hugging me you want me badly huh of course not what now huh hey stop it what now come on take this tep what happened oh no uncle tonio stepped on a sea urchin you saved me you cared for me and you made me feel alive tep have you tried this i ve never seen caramel flan used a a bread filling once you taste this you ll surely fall in love with me really yeah who would have thought you may be unlucky at finding a job but you re very lucky at finding a girlfriend you look good together you heard that we look good together that mean we re a couple mmm that quick why not but you haven t officially courted me yet so can i court you well you did save me a while ago of course i would save you i d rather get hurt than see you get hurt so can i court you now mmm fine sure yes ouch why d you do that i m okay are you sure here okay thank you kiss huh what kiss i m talking about the bread oh whatever kiss you surprised me there mmm good mmm it s good told you so slowly mm hm we re almost there okay are we there yet yeah keep your eye closed mm hm one two three wow it s beautiful tonio you like it yes you know this is my favorite spot in this town in fact this is the most beautiful thing i ve ever seen mmm until i saw you nice wow you re just teasing me it s true i ve got one more surprise for you there s more yes just look at me okay what s that blow blow yeah oh it s so cute give me your hand i don t have money to buy you flower so i got this instead tep starting now i am courting you okay where did you buy this it s so pretty i made that you made this yes really you made this yeah you want to see how i made it sure wow these are beautiful you made all of these wow you ve been doing this for a long time my dad started this but i also developed a knack for it you know tep once i have enough money from working a a seaman i want to set up a furniture shop that wa my father s dream really wow i ll be your first customer wait question why do you use old wood i don t like seeing these piece of driftwood go to waste most people see these a rotten old and useless but when you really stop to look at them that s when you will see their true beauty unfortunately not many people do that a lot of people think these are junk they just throw them away like trash you captivated me through the beauty of your dream and the kindness of your heart and slowly but surely i wa falling for you ah sorry sorry doe it hurt sorry every moment we spent together felt like happily ever after this won t take long tep i will cook my special chicken skewer for you tonio huh hey why are you erasing it this is how you should do it t heart t tonio love tep and vice versa teptep love tonio i know you love me too right but i know you won t admit it tep do you see it mmm you like it i like it let s go let s go i didn t know where we were going but i wa just happy to be wherever you were hold on tight oops start paddling are you serious i m just kidding come on okay are you tired a little bit you hey steph how are you steph brother you okay it s her family daddy what are you doing here i wa suddenly given you surprised me a vacation leave porky hi ma am hi sir so how s your vacation this isn t a vacation this is an outreach program where s abby sleeping asleep steph who s that hunk with you the one you were holding hand with is he your boyfriend no stephanie introduce your friend to u will you mom s right okay tonio come here i ll introduce you do i need to watch over you really brother tonio my family good evening good evening you know tonio you should put a bench here so we have somewhere to sit or maybe a swing that ll be cool hey are you okay why are you so quiet wa my family too much for you oh no your family is fun i m actually jealous i just wish i had a family like yours happy and complete it s a shame tep i can t introduce you to my mom she left u when i wa just a kid i don t even think she know i exist she wasn t happy with a simple life that s why she left me and my dad come here tep hmm what if this is it for me what if this is all i can be can you live with that i knew at that moment i wanted to be part of your world and i wanted you to be in mine hey you you said you would only kiss me once i m your girl right you re something else here okay tomorrow we ll meet up here again so i can give you my answer why not give me an answer now because once i give you my answer there s no turning back it s forever so you need to seriously think about it you need to be sure can you love me forever of course if you want i can even love you forever and forever and forever mmm what about you can you love me forever mmm and slowly our world were becoming one ouch wait bad ant he got to kiss you first mommy steph it s so late we ve been waiting for you come on let s eat where were you up on the hill oh it s beautiful there mommy you should see it okay oh mommy mmm mommy yes how did you know that daddy wa the man you re going to love forever i tried to make our summer last forever but all season come to an end that s the story that inspired my presentation in fairness that s so good your pitch is fabulous it s beautiful i can feel it your delivery is top notch si you think so of course i feel it too no matter how many time i ve heard it i m still affected by teptep and tonio s summer to remember also known a the summer to forget forget to forget hello guy that wa seven year ago let s move on if i were in your shoe i wouldn t be able to move on until i found out what happened he didn t show up because he got on a ship that s what his family told me there you have it you mean to tell me you never saw each other you never talked again no not yet actually there s no need for it you do need it for closure sometimes not having closure is the closure wow who i am and what i have right now that s the reason why the thing that didn t happen never took place we will let the emoticon tell the story how embarrassingly corny and clich what do you think it might get rejected right down to the stupid name of tonio and teptep really now here she go again is there anything else um miss monica that s all we steph i gave you one chance to come up with a brilliant marketing campaign are you pitching me a soap opera no ma am it s for a web series three minute each with a cliffhanger at the end of each webisode and to determine how the next webisode will begin we ll have a text poll using kakao emoticon uh for example if boy and girl will meet again how will the girl feel a angry b surprised or c very angry text the emoticon of the reaction you want to see in our next webisode how is product usage depicted in your series your story wa set seven year ago during that time kakaotalk wa not even in existence miss monica this is just the back story do you really think that this is what the target market would like dump the entire thing give me something better don t waste my time or the client time catch my drift mm hm here you go a gift from aunt steph wow thank you you re welcome share that okay that one put that here where s the sauce it s here no it s for the chicken mommy here s your pork bun i ll just eat that tomorrow you know all of you need to learn how to save your father s been out of work for many year we have so many payable bill rent your tuition the tuition of the kid mommy relax it would be good if the business you got into were actually profitable and do you think you ll get rich by selling perfume and make up that s not even enough for my grandkids and you get your dad it s time to eat come on let s get this ready okay don t mind your mom it s enough that you bring food for u in fact she really like the steamed bun that you bring home did you leave some for me of course daddy i ll forget everything else before i forget your steamed bun ouch ouch oh daddy are you okay where doe it hurt it s fine i m okay i m okay i promise you daddy once i get promoted and that s very soon i ll take you to the u s for medical care i m fine i don t need all of that daddy i want you to be able to walk again steph i ve been in and out of therapy for seven year we ve even prayed in manaoag so many time i think it s impossible no nothing is impossible you will be able to walk again okay i will try to walk again a long a you try to fall in love again well maybe i m already in love with whom secret howard our skype date with the band is next week uh huh yes actually there s to member of the entertainment press that are gonna be there from taiwan malaysia singapore vietnam and hong kong sit properly and use your chopstick uh huh babe hang up the phone eat sushi with me i can t i need to finish this now i wasn t able to work on this because you pissed me off earlier yes howard of course i can take them to boracay and palawan for some rest and relaxation mm hm bye howard babe you re so naughty you re lucky you re cute what do you expect you force me to learn to use chopstick you used to find it sweet when i use my hand to feed you i want you to learn how to use chopstick because i love japanese food what will happen when we go on a date you re gonna use your bare hand to hold the sushi sorry okay have you thought of what kind of business you would like to invest in yes babe i talked to uncle erning he s going to request a business permit for the furniture shop furniture shop what kind of furniture shop driftwood that s always been my dream driftwood yeah we have a lot of those back home that is not going to fly so babe what business will i set up babe first of all it s babe singular there s only one me and also to answer your question you have to invest in something both trendy and relevant what s that a bar a high end bar you know the manila party scene is booming right now ant the italian you took care of left you million in his will but that million will easily vanish if you don t take care of it properly actually it s not even million anymore because you bought this house then you also bought one for your family then you bought a car i just don t want you to invest in something that will surely fail babe i ve been with you six month now when have i ever been wrong hmm so much drama okay fine mmm you re so dramatic ah miss monica um you asked me how we can make the national campaign a success what if we do a metro manila campus tour to see if our target market will like the web series we will set up booth to provide wi fi to those who have downloaded the app you ve got to be kidding me steph the client ha done that before i know ma am but do not give me rehash crap and say that it s improvement you ve been asking me about a promotion with these idea how can i promote you anyway i have a more urgent project for you to work on i have a new client who want to open a high end bar and i want you to personally take care of his account i want you to do the pr of the bar and it owner okay and if you do well maybe i ll give you the vacant account executive position really i said only if you do well then maybe i might promote you but this is confidential yes ma am the bar owner is my boyfriend ah mm hmm you see i met anton on a cruise ship a few month ago he s not used to how it is to live in my world now your job is to transform him so that he can mingle with a high end crowd which is the target market of the bar he s opening he speaks a little bit of italian and english is not his first language it s your job to teach him english a well yes ma am can i trust you with this yes ma am don t mess this up or else catch my drift waiter i m on my way waiter hi sir i m sorry to keep you waiting i m stephanie asuncion sir anton right anthony actually pleasure to meet you may i take this seat sure thank you all right this initial meeting is basically for u to discus your vision and goal for the business you hope to launch miss monica informed me that you wanted to open a bar are we talking about a restobar or is this a club or lounge oh yeah i m sorry i m sorry i wa talking my head off i forgot that english is not your first language uh did you understand any of that i understood actually and english isn t just my first language it s my only language hi honey uh this is my wife gina and this is a very stupid person you re not my bos boyfriend are you he better not be or i m gonna kill him honey i m not cheating on you i m telling you the truth this time i promise this time so you admit that you ve been lying stupid steph where s my cell phone okay i ll follow up on table ah sir i m sorry i m sorry ma am sir wait a minute hold on i have a lot to do ma am teptep tep teptep uh tep no no i m okay thank you just a thank you uh sorry tep it s tonio oh yeah tonio hello how are you hello i m good great even what are you doing here well it wa nice bumping into you but i have to go because i have a client who s waiting for me bye tep wait yeah let s talk for a while i m sorry i have to meet an important client i can t and i don t want to attend to you right now bye hello hello sir anton good afternoon tep is that you to tonio tep it s been awhile steph or stephanie stephanie tep is fine steph is too formal well you are a client sir anton sir anton tonio it s like we don t know each other okay so tonio how are you a i said earlier i m good great okay and you how have you been i m good what have you been up to since i last saw you i heard you became a seaman yeah i worked on a cruise ship so that s where you met miss monica right good for you tep if you re uncomfortable just tell me okay i ll just ask monica to find someone else who can help me of course not there s no reason for me to feel uncomfortable right don t worry tonio relax mmm by the way i want to say sorry sorry for what happened why what happened what do you mean when when it wa u u wa there an u back when we were together when we had an m u m u hmm m u mutual understanding no no i think your m u stand for mi understanding gosh sorry sorry tonio there wa never an u look if this make you feel uncomfortable i can just talk to miss monica about this and tell her oh no i m fine no problem m u your face m u my as m u messed up you are one big mistake tonio a huge mistake huge mistake wow good day uh is tonio around mmm mmm i like you you got my vote are you the new girlfriend and by the way i m mama mae i m sir tonio s all around helper in by day out by night and you are stephanie asuncion ah stephanie hey my sir is there tonio you have a visitor she s very beautiful we are so alike mama mae tep hello have you been here awhile sorry for making you wait no it s okay i m used to waiting for you i m actually surprised you came hi babe it s babe ah babe is steph there already yeah she s here i m embarrassed cause i made her wait are you good don t worry i got this okay bye i love you oh oh you should have told me told you what i thought you were a couple mama mae there wa never an u right tep exactly mm hmm hmm my job is to present you to your public in the best light possible to communicate the right message about your business and about you we re doing this interview so i can get to know you and make everything clear to avoid confusion we don t need another m u m u weren t you misunderstanding mi understanding oh mm hmm so why do you want to put up a bar so that i can make monica happy because you love her yeah you love her why what do you like about miss monica yes i ask myself the same question why do you love that woman i don t get it i actually get it she s beautiful powerful and most of all she s rich what are you trying to say exactly that and you what doe she like about you oh that that i get it s because my sir tonio ah maybe it s your job cause miss monica is known for dating accomplished men where are you working i m currently jobless so you re not working now because you re with miss monica that s why i m opening a business right which you haven t even thought about i know what i want yes you do my rich bos what are you getting at i wasn t getting at anything uh i just wanted to know if i m after monica s money if i m just using your bos you said it not me i am not using monica but that s what you re getting at the truth because if i misunderstand you once more i ll look stupid again right you have that effect on me you make me look stupid huh what i just want to do my job properly okay job is this your job to insult me if that s all you re gonna do let s just end this okay fine all right thank you you re welcome wow i felt that she had a lot of resentment you know you two need to m u m u make up mommy hey si where s daddy what happened his side started hurting all of a sudden then he turned pale so we rushed him here mommy mom are you okay doc how is my husband he s fine for now we are doing some test and it seems he ha stone in his gallbladder we need to operate on your husband what we have to do is schedule the procedure immediately based on what anton said you broke every single rule in public relation i m sorry miss monica please don t fire me i ought to fire you but i won t because i m giving this project to liana miss monica i need this project it doesn t seem like you want it miss monica please don t take the project away from me i ll prove that i can do it that i m deserving of the promotion please miss monica please give me another chance don t talk to me talk to anton he s the client and a far a i m concerned he doesn t wanna see you he doesn t wanna have anything to do with you so good luck in trying to convince him to take you back what you got something to say i m too busy counting all of monica s money right now please forgive me please give me another chance because i really need this job here a peace offering and this too mmm thanks tep are you mad at me cause your insult really hit home you know it wa my decision to wait for you i made that choice eventually i realized that i should be mad at myself because i chose to be stupid i m sorry that i left you hanging you know i completely understand that you had to board a ship for work but to leave without saying a word you didn t talk to me or come and see me one last time i found that hard to accept and i waited for you i even told myself you ll explain everything to me because you love me but come to think of it i realized you never once told me you loved me so it wa stupid of me to assume that you loved me oh well i guess when someone court you it doesn t mean he love you i did love you oh well the past is the past let s leave it behind u it s been seven long year anyway it s better this way because if we ended up together i might have been a hindrance to you hmm you might not be a successful a you are now tonio i m really sorry i m sorry for everything i said it s okay we re good mmm high five kiss mmm hi i m stephanie asuncion i will be your pr specialist and you are tonio anton bugayong anton it doesn t sound like me that name doesn t suit me not yet but we will do something about that just relax that s the kind of bar you and miss monica want to set up and a the owner of the bar that s also the image you ll need to project and the first step to achieving that is appearance management you are the brand ambassador of your business so just like your bar you have to be posh modern and cool posh modern cool indeed that s the look we re going for i ll take care of him please sit sir okay i ll go ahead mama mae tep what where are you going i ve got work to do i ll be back later don t worry i won t leave you high and dry unlike you i m leaving too and where are you going i m just going to buy some dried prune these are killer outfit why mama mae these are better no these will suit him better look at them no way i won t wear any of those clothes i like these the action star look no no no no you re not wearing that you re wearing these these will look better on you no you re wearing this no no no i m wearing this i m wearing this no dried prune just kidding mmm so do i look good you need to improve your communication skill being handsome isn t enough oh that s enough for me more than enough actually it s not enough for you so you think i m handsome why aren t you just making sure hmm hey tep wait tep hold on hold on am i so handsome that you can t help but kiss me excuse me i m not gonna kiss you you need a facial facial ouch that s gonna hurt if you can tell me in straight english why you don t want to wear these i won t force you to try them on okay go ahead i don t like because because it doesn t my unlike you doesn t you like unli unlike no fine give me that i like it doesn t it should be it don t right stay still sir tep this really hurt why am i doing this again because you love miss monica remember you know a they say love hurt wow looking good hmm so what do you think do i look good mmm modern cool what s the last one posh posh posh it further mama mae yeah i ll posh you up too me too mm hmm let s posh you mama mae ow ow i m sorry it hurt we will be done in a bit ow ooh ow my hand it hurt sorry sorry sir please hold still look yuck dinner fork good salad fork very good mmm okay let s try it without the cheat sheet this time go what s this i thought the chopstick were hard but this is harder there are so many of them don t worry with practice you ll be able to memorize all of these ta daaa yes wow what s that mama mae flower i m kidding it s food of course a dish made by tonio peppered pork tonio s specialty wow especially for you wow really tep what fork should we use to eat this for this hmm we ll use our hand oh mamae let s use our hand i will use my foot your foot mmm okay i m done i m so full thank you you liked it hmm delicious but i think we should take a walk to help digest the food yeah walk around take a walk around the whole house go ahead i had no idea you knew how to cook back then when i worked on the cruise ship i wa assigned to the kitchen that s where i learned to cook hmm so that s how miss monica fell for you by putting a spell on her food during her cruise of course not that s not even where we met we met in orvieto italy what in italy yeah i only spent one year on the ship then i hopped off i ended up working a a caregiver then i met my employer he look like your grandfather that s why i felt at ease taking care of him did you have a hard time taking care of him not really but it s the loneliness that will get you there aren t many filipino there plus se or luigi s vineyard wa in a provincial area oh last year his closest friend visited him monica wa with them but after a few day se or luigi passed away monica wa the one who helped me she really surprised me she didn t mind doing the work washing the dish serving the funeral guest really miss monica did yeah really she doesn t seem to be the type hey she s not like that thank you i think you re talking about a different girlfriend tonio you just don t know monica like i do so why did miss monica tell me that she met you on a cruise ship maybe because that s where we bonded when se or luigi died he left me a lot of money and he left strict instruction for me to go on vacation so when monica told me she wa going on a cruise i went with her that s where you got to know all of monica meaning that s where you meddled with monica s muffler mama mae so so what i m just worried about you i just don t want you getting hurt by tonio s answer because you know mama mae whatever tonio say will have no effect on me anymore and obviously that s where they they first you know right first what first time you meddled meddled with the muffler whose monica s my gosh what are you saying ouch disgusting sorry my god i m sorry i ll just shut up and drink my coffee hello babe i mean babe how are your muffler i mean your it s mama mae s fault you know you may not be feeling hurt but i am hurting for you mmm mm hm it s going well i m learning a lot she s just a bit temperamental and strict oh my god anton is that you yes babe that s me ant it s me not that s me sorry babe uh babe do you like this i love it you look so hot did steph pick out those clothes for you yes steph is really good i m learning a lot from her except for good grammar but you look so hot anyway tep did you get the thing i sent you you sent me something guy there s a special delivery for steph hurry up i want to have some so sweet caramel flan sir anton your card please thank you so much the package just arrived this is too much thank you thank you so much monica wa so happy last night sorry i wasn t able to drop by i had to wire money to grandpa for his medication it s okay thank you for the food you sent and that other thing i sent ha it arrived other thing there s more flower for steph is it there yet excuse me i have flower for miss monica t valencia tep are they pretty do you think monica will like them what if we use sticker to tell the web series that i previously pitched why do we have to burden the client with creating a new product that s not part of their directive however i would like to congratulate you on the work you ve done on anton major improvement thank you but it s not enough his basic english still need work mmm will he be ready by tomorrow i ll make sure of that miss monica it is our first time going public tomorrow and i don t want him to make a fool out of himself mm hm ma am thank you for attending our event no problem how about you steph will you donate your hair of course ma am later have a seat thank you thank you sir wishing you re here is my english correct oh your kinda ex miss you i m not the one he like remember so you admit it you re still hoping that he like you i knew it no no i didn t mean it that way sorry i m at an event wait i ll just text back but we ll see each other later right go girl meet with him you know you want to excuse me no i don t want to come on we won t judge you you re just friend aren t you friend friend hi sorry i m late i couldn t use my car today so i took a taxi then he dropped me off at the wrong entrance so let s review before miss monica get here let s go when did you get a haircut earlier at the event come on let s get a table wow hmm tep wow steph oh sir andrew hello tep who s that that s sir andrew one of my boss he s the ex of wow in english please the guy who broke monica s heart hey sound good in straight english i may add of course it s miss monica hello miss monica i m here with sir anton okay are there a lot of people um no not really miss monica sir andrew is here huh what is he doing there i think he s on a date um okay well i m still in a client meeting right now so i won t be able to make it to dinner what can i just talk to anton please okay she say she can t make it hello babe it s babe singular remember you told steph to set this up i prepared for our date and now you can t make it i know but i have an important client meeting more important than me look i don t want to fight about this okay let s just talk about it tomorrow just try to understand fine i love you okay bye are you okay are you angry no just hungry let s eat tep let s order you know tep i don t understand monica she dislike it when i call her babe but she keep calling me ant singular there s only one me you full super tep thank you for all your help it s just too bad monica didn t see what you ve worked so hard on what you have worked hard on thank you oh you have a meeting tomorrow with mtv s friend who want to invest in your bar why not have your date with mtv after the meeting if you want i can make reservation for you tep what if i set up a furniture shop instead that s what i really want anyway it s just monica who think it s a waste of money huh it s not a waste of money you re very good at that i promise you once your shop open up i ll be your first customer really sure i ll even do pr work for you for free really uh huh you know i think you just need to show your work to miss monica i m sure she ll be impressed why not bring her to your province oh why are you still up i m just editing a video presentation for a client mmm uh by the way who drove you home my new client he look like like tonio mm mm that wa tonio mommy he s your client my god steph he s nothing but trouble you need to get away from him while you can unbelievable go to the province with you what why i ll introduce you to my family i ll also show you my woodwork i want to prove to you that setting up a furniture shop won t be a waste of money i just can t see myself running a high end bar is this because i missed dinner last night so you re backing out is that it monica i m not interested in setting up a bar then study up on it why do you keep insisting on this furniture thing monica you re my girlfriend but you don t seem to have faith in me unlike steph who ha complete faith in me ant sorry i have faith in you okay i m gonna reconsider that furniture thing but i can t go to the province with you maybe next time okay move my meeting with mr reyes to p m and tell him i m on my way okay yes ma am miss monica yes can i ask you something okay make it fast because i m busy what i saw your car outside the restaurant last night why didn t you come in follow me actually i kind of feel guilty about it i just wish life wa le complicated when i met him in italy i wa still heartbroken over andrew so when anton told me he wanted to come with me on the cruise i wa okay with it normally i wouldn t have allowed it because i barely knew him but you know he made me laugh he made me feel beautiful and special have you ever felt that way steph his rural attitude his corny humor even his bad grammar all of that wa so wonderful that wa back then when we were still in paradise but not now when we re back in the real world it s just better to introduce him to family and friend a a fellow passenger that i met on a cruise ship there s no way that i would tell them i m in a relationship with a seaman turned caregiver it s embarrassing he had an honorable job steph don t be so naive after all we re in the world of pr and that s not the point this is the first guy who is willing to do anything for me who is willing to change for me that s why i really want this relationship to work but you confronting me like this and planting seed of hope in his furniture shop miss monica if you could just give anton a chance i did i told him i would reconsider but only after i ve been proven wrong that it s not going to be a waste of money catch my drift steph i think this is going beyond what miss monica is asking of you this is girlfriend level effort for a guy you claim to be just a friend steph i m just concerned for you this might be another m u for you a mi understanding with major uncertainty come on let s grab some lunch okay i might lose some weight oh gosh i m super excited i m ready for the beach see look at me i put on sunscreen oh show a little excitement i can t believe you finally you get to introduce me to your family mm mm tep you re in uniform what are you doing here do we have a session no but i heard mtv can t go with you to the province to see your furniture yeah i m kind of bummed out about it mmm no no no you re not allowed to mope i m here because i m going to make sure that mtv will still see your furniture so instead of her coming over to see your work your work will come to see her okay i ll do it tep yeah mmm huh mmm mmm oh ah got it yes mmm huh there s there s more no you still got food give it here i want some more you finished it mama mae you might get fat yes braised pork tep let s eat you can sleep in my room tonight huh oh my gosh so naughty what about you i ll sleep on the couch i ll be fine there too bad you really look good together hmm you should have heard him say there wa never an u they re fooling each other you re like a newlywed couple separated by sadness that s not true no we re not oh yes you were you almost didn t board your ship remember huh uncle that s not true tep might believe you remember when you were in manila you were drunk every night and every time you got drunk you sang tep tep tep tep tep with matching tear that s too much tep might believe you too much you were too drunk they even had to dunk your head in a drum of water just to get rid of your hangover hey steph got drunk too hey you got drunk tep tonio you didn t know about that because he didn t want to talk about steph back then okay enough she reeked of booze hyro right mom wait so what if she got drunk i wasn t drunk that wa when she came back to look for you the second time she came back susan three month later tep did you really come back here oh she came back wait you tease them like tonio doesn t have monica she wa even waiting for hyro that s enough don t you remember mom you were the one tep cried to then her daddy came to pick her up okay stop now stop now son why mom can you just pas me the rice we have to eat everything okay that s right it seems you re getting thinner it s very delicious this is what i missed from tonio s cooking this one is good who cooked this mama mae why are you still up i m having a hard time sleeping because of this cold here drink this before someone else catch a cold thank you why are you still up my cold is curable i ll be able to sleep now but i don t think there s a cure for whatever you re feeling kook how are you well i m okay steph i would just like to remind you you re doing this for your future promotion your past with tonio it ha nothing to do with it okay so please don t go back to being stupid okay i love you two old friend meet again wearin older face talk about the place they ve been steph two old sweetheart get over it who fell apart somewhere long ago why do you have to find out when it s already in the past how were they to know someday they d meet again and have a need for more than reminisin maybe this time it ll be lovin they ll find maybe now they can be more than just friend she s back in his life and it feel so right maybe this time love won t end yeah yeah yeah yeah did you get drunk over me did you come back for me it s the same old feeling tonio steph let s go back again it s the one they had way back when they were too young to know when love is real but somehow some thing never change and even time hasn t cooled the flame it s burnin even brighter than it did before it s okay it got another chance and if they take it ah wow just like newlywed maybe this time it ll be lovin they ll find maybe now they can be more than just friend she s back in his life and it feel so right maybe this time love won t end okay ready one two three go a piece of driftwood may look like nothing in the beginning but i always find beautiful in oh sorry dad s asking me to pick him up he say he s got our lunch i won t take long i ll just go get them wait what about hyro i ll be quick um let s continue sure sure okay no you can stay there yeah same spot okay game okay one two three go i don t just work with driftwood i also work with recycled metal like this one and recycled wood like this because because because because there are thing you can t just throw away because you just can t forget about them because you just can t let them go tonio that s not what s written here it wasn t easy to walk away it wa the most difficult decision you ever had to make but at that time it wa the right thing to do you shouldn t be saying those thing but what you thought you d lost ha come back and you take it back because it s precious to you because you realize that you still love her you got hurt tep i know there wa never an u there will never be an u so please stop flirting with me tep sorry sorry if you think that i that i m flirting with you but i m not it s not like that i don t know what to do i don t know how i feel it s nothing tonio you don t feel anything you shouldn t feel anything and i shouldn t feel anything because there wa never an u but we loved each other tep i loved you believe me i loved you tonio you were my first love everyone made fun of me because we never became a couple but i went crazy over you because every part of my body wa hurting sad every part of my body wa longing for you that s why i came back here because i thought you might be here forgive me i got so drunk that night that s why my dad had to pick me up he wa tired and it wa dark we got into an accident my dad wa paralyzed because of my stupidity over you and to this day i m still paying the price for that stupidity but even after all the pain you ve caused me i still love you tonio i still love you you think you re the only one who suffered the night before we were supposed to meet your mother talked to me she told me i would only hinder you from reaching your dream but if i really wanted you then i should take you but you could never go back to them it wa a lot to take you were a coward i wasn t ready tep you were a coward admit it tonio you were a coward because i wasn t ready what life could i offer you how wa i supposed to give you the life you were used to that wa not the life i wanted a life with you wa more than enough for me but not for me because i love you because i wanted to give you a good life i didn t want you to go through the same hardship i did you should have said that i should have heard that so that i could have told you that i can wait until you were sure until you were ready i would have waited no matter how long because i loved you tonio you should have showed up i waited for you tep please forgive me because if i came to meet you there s no way i could have left you tep i m sorry coming back here wa a mistake you already you already love someone else steph i m so sorry all this time i ve done nothing but hurt you please tonio let s stop this just tell me it s over steph can you can you please stop telling me that you love me just tell me that it s over please it s over what you spent the weekend in the province with steph why didn t you tell me and what s all this talk about driftwood furniture monica this is what i really want to do and you think you re gonna be successful with it teptep think i can do it even when we were younger she always believed in my dream teptep stephanie yeah steph you knew each other even before that wa a long time ago it s not important why didn t you tell me there wa nothing to tell don t lie to me monica that s in the past it s over we will be launching a web series with cliffhanger and have a text poll over kakao to find out how the next webisode should begin we ll be developing a new group of emoticon to tell the story it s going to be like an animated short i smell a promotion and to generate more buzz we are going to launch via a campus tour just like what you did before i like it it s fresh and innovative but what will the story of the short film be a love story girl and boy meet one summer what do the letter a m stand for anton and monica but their love story wa cut short that summer but a few year later they meet again so this time will monica and anton have their happy ending okay i like it and it s a go congratulation monica you came up with all that yes i did and that s why she s the best good job monica thank you oh and by the way i would like to introduce to you our new project head liana mendoza our newest account executive congrats congrats liana thank you ma am what i deserve it deserve what the promotion you gave to liana excuse me get out of my way everything you presented were my idea and you didn t even bother to tell them that they weren t yours i wa the one who put this together not you i wa the one who worked on all of them you worked on all of them including my boyfriend don t you dare deny it i can see right through you i didn t do anything wrong but you wanted to you wanted to steal him from me i would never steal him from you i am not like you you wanted to go back to the province because you wanted to bring back the past oh yes i know everything if that s the case you should know that it s over it s all in the past it better be because he s my boyfriend now so stop being delusional you can t compete with me don t even try you lying backstabbing boyfriend snatching slut really now this coming from a shallow manipulative two faced bitch i don t want to deal with this garbage i m not done yet let go no you listen to me before you call me a liar it s time for you to come clean do you really love tonio yes i love him no you don t because if you truly love him you wouldn t force him to change just so he can be good enough for you don t even try to and don t you dare call me a backstabber i never betrayed you i respected your relationship with tonio so you have no right calling me a slut you re fired no i quit tep babe this is not the right time for you to resign stephanie mommy i can t stand my bos anymore she s so unfair not only to me but also to tonio tonio what the hell stephanie you almost quit school before now you ve quit your job you re going to destroy yourself again over that man you re letting him make a fool of you again who else will suffer this time haven t you learned your lesson he already left you once he wouldn t have done so if you didn t talk to him if you didn t scare him into thinking that he would ruin my life but don t worry i won t let myself get fooled again i won t let myself get destroyed again i will not love tonio again even if that s how i really feel i will do that not because i think it s wrong or because i might get hurt again i will do it it s because i don t want to give you more reason not to love me i don t want another seven year to go by that whenever you look at me all you see are my mistake here tonio this will calm you tonio are you okay are you feeling ill maybe you shouldn t go to monica s party mama mae i have to monica is expecting me and i ve been waiting a long time for this so why don t you look too happy you look like you d rather go somewhere else mama mae monica is my girlfriend i should be with her it s why i changed for her a the saying go change is good a long a you change for the better that s in english this is what s right this is what should be you know i admire your determination to stay with monica but if you re sticking to that you might be stopping yourself from experiencing the joy of true love keep in mind tonio determination is not the same a love hi babe you look great mmm stand up straight how are you um are you ready i want to introduce you to my friend come on anton monica told me you plan to open a bar have you picked out a location we re still looking for a place where we actually anton is still doing his research we already know that there s a lot of bar that are open right now so we wanna make sure that his stand out you know anton he love to take calculated risk come on anton i know you worked abroad so i m sure you know about taking risk yeah in fact i ve been to many country i started working a a actually anton ha worked in so many place when i met him he wa working for a big wine ranch in italy and i thought he wa done with it but you know once a businessman always a businessman actually i m not sure if i m a good businessman at all but you re right but why i m used to taking risk that s what i did when i jumped off a ship to become an illegal immigrant oh he wa a seaman before that s interesting it wa hard but a lot of people helped me that s why i have so much respect for wealthy people like you so when i got rich i told myself that i should never feel ashamed about where my money came from because that wa a blessing to me a blessing given to me by a kind person who accepted me for who i wa you re really lucky then thank you for the wonderful evening please excuse me i have to go uh excuse me i ll be back i think they re having a fight okay anton anton what wa that all about you humiliated me in front of my guest i just defended myself because i felt so small i didn t embarrass you monica you embarrassed me i wa just protecting you from them protecting me why because they re judgmental they didn t even mind my bad english and my being unsophisticated but you did monica you think they weren t judging you they were just being nice to you but they were already judging you in their mind but you re judging me to my face you couldn t even let me speak for myself because you re afraid everything i say will embarrass you oh my god why are you being so juvenile about this is this about stephanie again steph ha nothing to do with this well ever since you started working with her you ve changed isn t that what you want that i change for you you make it sound like change is such an awful thing anton tonio my name is tonio this isn t easy for me tonio this isn t easy for me either monica to admit that i m not enough that i m so flawed in your eye the pain i feel right now is the same a when my mother left me the same pain i felt when i had to leave steph because i felt that i wasn t good enough for her because i love you i let you change who i wa thinking that once i m finally a good fit for you you might love me wholeheartedly but now i realize that will never happen we will never be a good fit for each other no matter how much i study english no matter how hard i try to fit in with your friend and no matter what clothes i wear i m still nothing but trash to you i m so tired monica are you saying that it s over i m sorry daddy steph come here steph it s okay it s okay to get tired to get hurt it s even okay to make mistake but you also have to forgive yourself daddy daddy i m so sorry i m so sorry for what happened to you steph i never blamed you nor doe your mom so stop thinking like that she just doesn t want you to get hurt again she know that even though i got paralyzed you re the one with the deeper wound she just doesn t know how to help you but daddy she still resents me for what happened steph steph i m sorry i didn t mean to i love you so much i love you too mommy stephanie asuncion it s time to spread our wing let s just start our own firm that s right you think we can do it come on girl this will be fun plus we already have our first client really hi tep how have you been oh yes maybe she s here already guy steph is here hi mr stewart i want you to meet one of our partner in the pr company it s nice to finally meet you this is steph oh hello it s nice to meet you too i m glad you got to see the exhibit before it open tomorrow let me show you around it s right this way sure let s go all the piece are locally made mm hmm my business partner who also design all the furniture he collect all the driftwood himself let s go there yeah there s another display over here hey teptep pssst teptep why aren t you answering rude snob bitch finally you smiled hey she s looking for me hmm hey your client is waiting for you tep so this is yours i m impressed you finally fulfilled your dream yes but it s incomplete without you what about monica we re through tep i d like to court you again i will make sure that you know that i love you so much then now and forever and forever and forever in case it s not clear all together now tonio love teptep or teptep love tonio tep i m ready i know i made you wait but i m here now tep give me one more chance please of course go tonio oh oh yes oh oops you re heavy sorry two old friend meet again hey mmm i m still courting you and you already want to kiss me oh sorry i thought we re m u now m u here we go again i hate mi understanding m u me and u me and u me and u we re a couple now mm hmm so can i kiss you now kiss me mm hmm fine there s nothing i can do about it it s me and you now okay mmm what is it this time my parent are strict your parent aren t here and our friend are gone she s smilin like she used to smile way back then she s feelin like she used to feel way back when they tried but somethin kept them waiting for this magic moment oh maybe this time it ll be lovin they ll find maybe now they can be more than just friend oh she s back in his life and it feel so right maybe this time maybe this time maybe this time love won t end two old friend meet again wearin older face talk about the place they ve been two old sweetheart who fell apart somewhere long ago how were they to know someday they d meet again and have a need for more than reminisin maybe this time it ll be lovin they ll find maybe now they can be more than just friend she s back in his life and it feel so right maybe this time love won t end yeah yeah yeah yeah it s the same old feeling back again it s the one they had way back when they were too young to know when love is real but somehow some thing never change and even time hasn t cooled the flame it s burnin even brighter than it did before it got another chance and if they take it maybe this time it ll be lovin they ll find maybe now they can be more than just friend she s back in his life and it feel so right maybe this time love won t end she s smilin like she used to smile way back then she s feelin like she used to feel way back when they tried but somethin kept them waiting for this magic moment oh maybe this time it ll be lovin they ll find maybe now they can be more than just friend oh please rate this subtitle at www osdb link apcu help other user to choose the best subtitle\n"
     ]
    }
   ],
   "source": [
    "print(sampled_df['clean_text'].iloc[0])"
   ]
  },
  {
   "cell_type": "code",
   "execution_count": 11,
   "id": "544d5763-e371-4220-a7e8-a0a855a9f93b",
   "metadata": {
    "tags": []
   },
   "outputs": [],
   "source": [
    "from sentence_transformers import SentenceTransformer\n",
    "model = SentenceTransformer('all-MiniLM-L6-v2')"
   ]
  },
  {
   "cell_type": "code",
   "execution_count": 14,
   "id": "92d6d92a-072a-42cf-8d65-c2cff1a1f16e",
   "metadata": {
    "tags": []
   },
   "outputs": [],
   "source": [
    "def chunk_text(text, chunk_size = 250, overlap = 20):\n",
    "    \"\"\"\n",
    "    Chunk text into smaller segments with overlapping.\n",
    "\n",
    "    Parameters:\n",
    "    - text: Input text to be chunked\n",
    "    - chunk_size: Size of each chunk (number of tokens)\n",
    "    - overlap: Amount of overlap between adjacent chunks (number of tokens)\n",
    "\n",
    "    Returns:\n",
    "    - List of text chunks\n",
    "    \"\"\"\n",
    "    # Split text into tokens\n",
    "    tokens = text.split()\n",
    "\n",
    "    # Initialize list to store chunks\n",
    "    chunks = []\n",
    "\n",
    "    # Create chunks with overlap\n",
    "    start_idx = 0\n",
    "    while start_idx < len(tokens):\n",
    "        end_idx = min(start_idx + chunk_size, len(tokens))\n",
    "        chunk = ' '.join(tokens[start_idx:end_idx])\n",
    "        chunks.append(chunk)\n",
    "        start_idx += chunk_size - overlap\n",
    "\n",
    "    return chunks\n",
    "\n",
    "\n",
    "def generate_embeddings(text):\n",
    "\n",
    "    embeddings = model.encode(text)\n",
    "    return embeddings"
   ]
  },
  {
   "cell_type": "code",
   "execution_count": 15,
   "id": "2c5a8738-ae02-4538-a477-7d9bacfee32e",
   "metadata": {
    "tags": []
   },
   "outputs": [],
   "source": [
    "sampled_df['text_chunks'] = sampled_df['clean_text'].apply(lambda x: chunk_text(x))"
   ]
  },
  {
   "cell_type": "code",
   "execution_count": 16,
   "id": "9e26f74d-a9a6-4fa1-9a0a-b87278f182e7",
   "metadata": {
    "tags": []
   },
   "outputs": [
    {
     "data": {
      "text/html": [
       "<div>\n",
       "<style scoped>\n",
       "    .dataframe tbody tr th:only-of-type {\n",
       "        vertical-align: middle;\n",
       "    }\n",
       "\n",
       "    .dataframe tbody tr th {\n",
       "        vertical-align: top;\n",
       "    }\n",
       "\n",
       "    .dataframe thead th {\n",
       "        text-align: right;\n",
       "    }\n",
       "</style>\n",
       "<table border=\"1\" class=\"dataframe\">\n",
       "  <thead>\n",
       "    <tr style=\"text-align: right;\">\n",
       "      <th></th>\n",
       "      <th>num</th>\n",
       "      <th>name</th>\n",
       "      <th>content</th>\n",
       "      <th>clean_text</th>\n",
       "      <th>text_chunks</th>\n",
       "    </tr>\n",
       "  </thead>\n",
       "  <tbody>\n",
       "    <tr>\n",
       "      <th>17262</th>\n",
       "      <td>9251120</td>\n",
       "      <td>maybe.this.time.(2014).eng.1cd</td>\n",
       "      <td>ï»¿1\\r\\n00:00:06,000 --&gt; 00:00:12,074\\r\\nWatch...</td>\n",
       "      <td>watch any video online with open subtitle free...</td>\n",
       "      <td>[watch any video online with open subtitle fre...</td>\n",
       "    </tr>\n",
       "    <tr>\n",
       "      <th>7294</th>\n",
       "      <td>9211589</td>\n",
       "      <td>down.the.shore.s01.e10.and.justice.for.all.(19...</td>\n",
       "      <td>1\\r\\n00:00:09,275 --&gt; 00:00:11,876\\r\\n¶ Oh, I ...</td>\n",
       "      <td>oh i know that it s getting late but i don t w...</td>\n",
       "      <td>[oh i know that it s getting late but i don t ...</td>\n",
       "    </tr>\n",
       "    <tr>\n",
       "      <th>47707</th>\n",
       "      <td>9380845</td>\n",
       "      <td>uncontrollably.fond.s01.e07.heartache.(2016).e...</td>\n",
       "      <td>1\\r\\n00:00:07,140 --&gt; 00:00:14,220\\r\\n&lt;i&gt;Timin...</td>\n",
       "      <td>timing and subtitle by the uncontrollable love...</td>\n",
       "      <td>[timing and subtitle by the uncontrollable lov...</td>\n",
       "    </tr>\n",
       "    <tr>\n",
       "      <th>29914</th>\n",
       "      <td>9301436</td>\n",
       "      <td>screen.two.s13.e04.the.precious.blood.(1996).e...</td>\n",
       "      <td>1\\r\\n00:00:06,133 --&gt; 00:00:08,900\\r\\n[etherea...</td>\n",
       "      <td>ethereal music api opensubtitles org is deprec...</td>\n",
       "      <td>[ethereal music api opensubtitles org is depre...</td>\n",
       "    </tr>\n",
       "    <tr>\n",
       "      <th>54266</th>\n",
       "      <td>9408707</td>\n",
       "      <td>battlebots.(2015).eng.1cd</td>\n",
       "      <td>ï»¿1\\r\\n00:00:01,480 --&gt; 00:00:03,570\\r\\n[Chri...</td>\n",
       "      <td>chris oh no not the minibots yelling oh you le...</td>\n",
       "      <td>[chris oh no not the minibots yelling oh you l...</td>\n",
       "    </tr>\n",
       "    <tr>\n",
       "      <th>...</th>\n",
       "      <td>...</td>\n",
       "      <td>...</td>\n",
       "      <td>...</td>\n",
       "      <td>...</td>\n",
       "      <td>...</td>\n",
       "    </tr>\n",
       "    <tr>\n",
       "      <th>3027</th>\n",
       "      <td>9194538</td>\n",
       "      <td>full.circle.with.michael.palin.s01.e10.mexicow...</td>\n",
       "      <td>1\\r\\n00:00:06,000 --&gt; 00:00:12,074\\r\\nWatch an...</td>\n",
       "      <td>watch any video online with open subtitle free...</td>\n",
       "      <td>[watch any video online with open subtitle fre...</td>\n",
       "    </tr>\n",
       "    <tr>\n",
       "      <th>68018</th>\n",
       "      <td>9461187</td>\n",
       "      <td>the.glades.s01.e05.the.girlfriend.experience.(...</td>\n",
       "      <td>ï»¿1\\r\\n00:00:03,788 --&gt; 00:00:05,120\\r\\nHey, ...</td>\n",
       "      <td>hey twizzle meow hey twizzle twizzle what is i...</td>\n",
       "      <td>[hey twizzle meow hey twizzle twizzle what is ...</td>\n",
       "    </tr>\n",
       "    <tr>\n",
       "      <th>32418</th>\n",
       "      <td>9309873</td>\n",
       "      <td>detective.conan.s01.e03.an.idols.locked.room.m...</td>\n",
       "      <td>[Script Info]\\r\\nTitle: English (US)\\r\\nOrigin...</td>\n",
       "      <td>script info title english u original script tm...</td>\n",
       "      <td>[script info title english u original script t...</td>\n",
       "    </tr>\n",
       "    <tr>\n",
       "      <th>18532</th>\n",
       "      <td>9255721</td>\n",
       "      <td>never.love.a.stranger.(1958).eng.1cd</td>\n",
       "      <td>ï»¿1\\r\\n00:00:04,000 --&gt; 00:00:07,682\\r\\nLife ...</td>\n",
       "      <td>life is the span that link the eternity what h...</td>\n",
       "      <td>[life is the span that link the eternity what ...</td>\n",
       "    </tr>\n",
       "    <tr>\n",
       "      <th>73848</th>\n",
       "      <td>9485784</td>\n",
       "      <td>the.power.s01.e01.a.better.future.is.in.your.h...</td>\n",
       "      <td>ï»¿1\\r\\n00:00:06,000 --&gt; 00:00:12,074\\r\\nAdver...</td>\n",
       "      <td>advertise your product or brand here contact w...</td>\n",
       "      <td>[advertise your product or brand here contact ...</td>\n",
       "    </tr>\n",
       "  </tbody>\n",
       "</table>\n",
       "<p>8250 rows × 5 columns</p>\n",
       "</div>"
      ],
      "text/plain": [
       "           num                                               name  \\\n",
       "17262  9251120                     maybe.this.time.(2014).eng.1cd   \n",
       "7294   9211589  down.the.shore.s01.e10.and.justice.for.all.(19...   \n",
       "47707  9380845  uncontrollably.fond.s01.e07.heartache.(2016).e...   \n",
       "29914  9301436  screen.two.s13.e04.the.precious.blood.(1996).e...   \n",
       "54266  9408707                          battlebots.(2015).eng.1cd   \n",
       "...        ...                                                ...   \n",
       "3027   9194538  full.circle.with.michael.palin.s01.e10.mexicow...   \n",
       "68018  9461187  the.glades.s01.e05.the.girlfriend.experience.(...   \n",
       "32418  9309873  detective.conan.s01.e03.an.idols.locked.room.m...   \n",
       "18532  9255721               never.love.a.stranger.(1958).eng.1cd   \n",
       "73848  9485784  the.power.s01.e01.a.better.future.is.in.your.h...   \n",
       "\n",
       "                                                 content  \\\n",
       "17262  ï»¿1\\r\\n00:00:06,000 --> 00:00:12,074\\r\\nWatch...   \n",
       "7294   1\\r\\n00:00:09,275 --> 00:00:11,876\\r\\n¶ Oh, I ...   \n",
       "47707  1\\r\\n00:00:07,140 --> 00:00:14,220\\r\\n<i>Timin...   \n",
       "29914  1\\r\\n00:00:06,133 --> 00:00:08,900\\r\\n[etherea...   \n",
       "54266  ï»¿1\\r\\n00:00:01,480 --> 00:00:03,570\\r\\n[Chri...   \n",
       "...                                                  ...   \n",
       "3027   1\\r\\n00:00:06,000 --> 00:00:12,074\\r\\nWatch an...   \n",
       "68018  ï»¿1\\r\\n00:00:03,788 --> 00:00:05,120\\r\\nHey, ...   \n",
       "32418  [Script Info]\\r\\nTitle: English (US)\\r\\nOrigin...   \n",
       "18532  ï»¿1\\r\\n00:00:04,000 --> 00:00:07,682\\r\\nLife ...   \n",
       "73848  ï»¿1\\r\\n00:00:06,000 --> 00:00:12,074\\r\\nAdver...   \n",
       "\n",
       "                                              clean_text  \\\n",
       "17262  watch any video online with open subtitle free...   \n",
       "7294   oh i know that it s getting late but i don t w...   \n",
       "47707  timing and subtitle by the uncontrollable love...   \n",
       "29914  ethereal music api opensubtitles org is deprec...   \n",
       "54266  chris oh no not the minibots yelling oh you le...   \n",
       "...                                                  ...   \n",
       "3027   watch any video online with open subtitle free...   \n",
       "68018  hey twizzle meow hey twizzle twizzle what is i...   \n",
       "32418  script info title english u original script tm...   \n",
       "18532  life is the span that link the eternity what h...   \n",
       "73848  advertise your product or brand here contact w...   \n",
       "\n",
       "                                             text_chunks  \n",
       "17262  [watch any video online with open subtitle fre...  \n",
       "7294   [oh i know that it s getting late but i don t ...  \n",
       "47707  [timing and subtitle by the uncontrollable lov...  \n",
       "29914  [ethereal music api opensubtitles org is depre...  \n",
       "54266  [chris oh no not the minibots yelling oh you l...  \n",
       "...                                                  ...  \n",
       "3027   [watch any video online with open subtitle fre...  \n",
       "68018  [hey twizzle meow hey twizzle twizzle what is ...  \n",
       "32418  [script info title english u original script t...  \n",
       "18532  [life is the span that link the eternity what ...  \n",
       "73848  [advertise your product or brand here contact ...  \n",
       "\n",
       "[8250 rows x 5 columns]"
      ]
     },
     "execution_count": 16,
     "metadata": {},
     "output_type": "execute_result"
    }
   ],
   "source": [
    "sampled_df"
   ]
  },
  {
   "cell_type": "code",
   "execution_count": 17,
   "id": "c26bbbe8-7aad-4584-adf5-e022b1f3828a",
   "metadata": {
    "tags": []
   },
   "outputs": [],
   "source": [
    "from tqdm import tqdm\n",
    "tqdm.pandas()"
   ]
  },
  {
   "cell_type": "code",
   "execution_count": null,
   "id": "d59b55dc-676d-49c9-89f6-d39136ef9d53",
   "metadata": {},
   "outputs": [],
   "source": [
    "sampled_df['Embeddings'] = np.nan\n",
    "\n",
    "# Iterate over text data column and split into batches\n",
    "for i in range(0, len(df), batch_size):\n",
    "    batch_text = df['Text_Data'].iloc[i:i+batch_size].tolist()\n",
    "    \n",
    "    # Generate embeddings for each batch\n",
    "    batch_embeddings = model.encode(batch_text)\n",
    "    \n",
    "    # Assign the embeddings to the corresponding rows in the DataFrame\n",
    "    df.loc[i:i+batch_size-1, 'Embeddings'] = batch_embeddings.tolist()\n",
    "\n",
    "# Print the DataFrame with embeddings\n",
    "print(df)"
   ]
  },
  {
   "cell_type": "code",
   "execution_count": 19,
   "id": "1f8745b0-d733-4185-a611-0404882646d3",
   "metadata": {
    "tags": []
   },
   "outputs": [
    {
     "name": "stderr",
     "output_type": "stream",
     "text": [
      "100%|██████████| 2000/2000 [1:56:42<00:00,  3.50s/it]  \n",
      "C:\\Users\\alenp\\AppData\\Local\\Temp\\ipykernel_16032\\2491972899.py:3: SettingWithCopyWarning: \n",
      "A value is trying to be set on a copy of a slice from a DataFrame.\n",
      "Try using .loc[row_indexer,col_indexer] = value instead\n",
      "\n",
      "See the caveats in the documentation: https://pandas.pydata.org/pandas-docs/stable/user_guide/indexing.html#returning-a-view-versus-a-copy\n",
      "  sp['embedding'] = sp['text_chunks'].progress_apply(generate_embeddings)\n"
     ]
    }
   ],
   "source": [
    "sp = sampled_df.iloc[0:2000,:]\n",
    "sp['embedding'] = sp['text_chunks'].progress_apply(generate_embeddings)"
   ]
  },
  {
   "cell_type": "code",
   "execution_count": 22,
   "id": "620e224a-6955-4cdc-8f44-ee8ffc982500",
   "metadata": {
    "tags": []
   },
   "outputs": [
    {
     "name": "stderr",
     "output_type": "stream",
     "text": [
      "100%|██████████| 6249/6249 [6:04:55<00:00,  3.50s/it]   \n",
      "C:\\Users\\alenp\\AppData\\Local\\Temp\\ipykernel_16032\\1470387693.py:2: SettingWithCopyWarning: \n",
      "A value is trying to be set on a copy of a slice from a DataFrame.\n",
      "Try using .loc[row_indexer,col_indexer] = value instead\n",
      "\n",
      "See the caveats in the documentation: https://pandas.pydata.org/pandas-docs/stable/user_guide/indexing.html#returning-a-view-versus-a-copy\n",
      "  sf['embedding'] = sf['text_chunks'].progress_apply(generate_embeddings)\n"
     ]
    }
   ],
   "source": [
    "sf = sampled_df.iloc[2001:8250,:]\n",
    "sf['embedding'] = sf['text_chunks'].progress_apply(generate_embeddings)"
   ]
  },
  {
   "cell_type": "code",
   "execution_count": 69,
   "id": "30c9689f-acf4-4feb-82e5-0f1ed79911d0",
   "metadata": {
    "tags": []
   },
   "outputs": [],
   "source": [
    "result_df = pd.concat([sp, sf], ignore_index=True, axis= 0)"
   ]
  },
  {
   "cell_type": "code",
   "execution_count": 70,
   "id": "21d14f6f-d9aa-4297-b92d-f0d78e058305",
   "metadata": {
    "tags": []
   },
   "outputs": [
    {
     "data": {
      "text/html": [
       "<div>\n",
       "<style scoped>\n",
       "    .dataframe tbody tr th:only-of-type {\n",
       "        vertical-align: middle;\n",
       "    }\n",
       "\n",
       "    .dataframe tbody tr th {\n",
       "        vertical-align: top;\n",
       "    }\n",
       "\n",
       "    .dataframe thead th {\n",
       "        text-align: right;\n",
       "    }\n",
       "</style>\n",
       "<table border=\"1\" class=\"dataframe\">\n",
       "  <thead>\n",
       "    <tr style=\"text-align: right;\">\n",
       "      <th></th>\n",
       "      <th>num</th>\n",
       "      <th>name</th>\n",
       "      <th>content</th>\n",
       "      <th>clean_text</th>\n",
       "      <th>text_chunks</th>\n",
       "      <th>embedding</th>\n",
       "    </tr>\n",
       "  </thead>\n",
       "  <tbody>\n",
       "    <tr>\n",
       "      <th>0</th>\n",
       "      <td>9251120</td>\n",
       "      <td>maybe.this.time.(2014).eng.1cd</td>\n",
       "      <td>ï»¿1\\r\\n00:00:06,000 --&gt; 00:00:12,074\\r\\nWatch...</td>\n",
       "      <td>watch any video online with open subtitle free...</td>\n",
       "      <td>[watch any video online with open subtitle fre...</td>\n",
       "      <td>[[-0.114195324, -0.13925949, 0.0321585, -0.044...</td>\n",
       "    </tr>\n",
       "    <tr>\n",
       "      <th>1</th>\n",
       "      <td>9211589</td>\n",
       "      <td>down.the.shore.s01.e10.and.justice.for.all.(19...</td>\n",
       "      <td>1\\r\\n00:00:09,275 --&gt; 00:00:11,876\\r\\n¶ Oh, I ...</td>\n",
       "      <td>oh i know that it s getting late but i don t w...</td>\n",
       "      <td>[oh i know that it s getting late but i don t ...</td>\n",
       "      <td>[[0.021225374, -0.07874071, -0.025343947, -0.0...</td>\n",
       "    </tr>\n",
       "    <tr>\n",
       "      <th>2</th>\n",
       "      <td>9380845</td>\n",
       "      <td>uncontrollably.fond.s01.e07.heartache.(2016).e...</td>\n",
       "      <td>1\\r\\n00:00:07,140 --&gt; 00:00:14,220\\r\\n&lt;i&gt;Timin...</td>\n",
       "      <td>timing and subtitle by the uncontrollable love...</td>\n",
       "      <td>[timing and subtitle by the uncontrollable lov...</td>\n",
       "      <td>[[-0.06472977, -0.017627077, 0.021887604, -0.0...</td>\n",
       "    </tr>\n",
       "    <tr>\n",
       "      <th>3</th>\n",
       "      <td>9301436</td>\n",
       "      <td>screen.two.s13.e04.the.precious.blood.(1996).e...</td>\n",
       "      <td>1\\r\\n00:00:06,133 --&gt; 00:00:08,900\\r\\n[etherea...</td>\n",
       "      <td>ethereal music api opensubtitles org is deprec...</td>\n",
       "      <td>[ethereal music api opensubtitles org is depre...</td>\n",
       "      <td>[[-0.018442469, -0.031486534, -0.03125799, -0....</td>\n",
       "    </tr>\n",
       "    <tr>\n",
       "      <th>4</th>\n",
       "      <td>9408707</td>\n",
       "      <td>battlebots.(2015).eng.1cd</td>\n",
       "      <td>ï»¿1\\r\\n00:00:01,480 --&gt; 00:00:03,570\\r\\n[Chri...</td>\n",
       "      <td>chris oh no not the minibots yelling oh you le...</td>\n",
       "      <td>[chris oh no not the minibots yelling oh you l...</td>\n",
       "      <td>[[-0.07381657, -0.009854691, -0.0044685258, -0...</td>\n",
       "    </tr>\n",
       "  </tbody>\n",
       "</table>\n",
       "</div>"
      ],
      "text/plain": [
       "       num                                               name  \\\n",
       "0  9251120                     maybe.this.time.(2014).eng.1cd   \n",
       "1  9211589  down.the.shore.s01.e10.and.justice.for.all.(19...   \n",
       "2  9380845  uncontrollably.fond.s01.e07.heartache.(2016).e...   \n",
       "3  9301436  screen.two.s13.e04.the.precious.blood.(1996).e...   \n",
       "4  9408707                          battlebots.(2015).eng.1cd   \n",
       "\n",
       "                                             content  \\\n",
       "0  ï»¿1\\r\\n00:00:06,000 --> 00:00:12,074\\r\\nWatch...   \n",
       "1  1\\r\\n00:00:09,275 --> 00:00:11,876\\r\\n¶ Oh, I ...   \n",
       "2  1\\r\\n00:00:07,140 --> 00:00:14,220\\r\\n<i>Timin...   \n",
       "3  1\\r\\n00:00:06,133 --> 00:00:08,900\\r\\n[etherea...   \n",
       "4  ï»¿1\\r\\n00:00:01,480 --> 00:00:03,570\\r\\n[Chri...   \n",
       "\n",
       "                                          clean_text  \\\n",
       "0  watch any video online with open subtitle free...   \n",
       "1  oh i know that it s getting late but i don t w...   \n",
       "2  timing and subtitle by the uncontrollable love...   \n",
       "3  ethereal music api opensubtitles org is deprec...   \n",
       "4  chris oh no not the minibots yelling oh you le...   \n",
       "\n",
       "                                         text_chunks  \\\n",
       "0  [watch any video online with open subtitle fre...   \n",
       "1  [oh i know that it s getting late but i don t ...   \n",
       "2  [timing and subtitle by the uncontrollable lov...   \n",
       "3  [ethereal music api opensubtitles org is depre...   \n",
       "4  [chris oh no not the minibots yelling oh you l...   \n",
       "\n",
       "                                           embedding  \n",
       "0  [[-0.114195324, -0.13925949, 0.0321585, -0.044...  \n",
       "1  [[0.021225374, -0.07874071, -0.025343947, -0.0...  \n",
       "2  [[-0.06472977, -0.017627077, 0.021887604, -0.0...  \n",
       "3  [[-0.018442469, -0.031486534, -0.03125799, -0....  \n",
       "4  [[-0.07381657, -0.009854691, -0.0044685258, -0...  "
      ]
     },
     "execution_count": 70,
     "metadata": {},
     "output_type": "execute_result"
    }
   ],
   "source": [
    "result_df.head(5)"
   ]
  },
  {
   "cell_type": "code",
   "execution_count": 71,
   "id": "f4ca0c44-4228-495e-99c9-156968db23cd",
   "metadata": {
    "tags": []
   },
   "outputs": [
    {
     "name": "stdout",
     "output_type": "stream",
     "text": [
      "<class 'pandas.core.frame.DataFrame'>\n",
      "RangeIndex: 8249 entries, 0 to 8248\n",
      "Data columns (total 6 columns):\n",
      " #   Column       Non-Null Count  Dtype \n",
      "---  ------       --------------  ----- \n",
      " 0   num          8249 non-null   int64 \n",
      " 1   name         8249 non-null   object\n",
      " 2   content      8249 non-null   object\n",
      " 3   clean_text   8249 non-null   object\n",
      " 4   text_chunks  8249 non-null   object\n",
      " 5   embedding    8249 non-null   object\n",
      "dtypes: int64(1), object(5)\n",
      "memory usage: 386.8+ KB\n"
     ]
    }
   ],
   "source": [
    "result_df.info()"
   ]
  },
  {
   "cell_type": "code",
   "execution_count": 184,
   "id": "8a5b8a22-464f-4d53-a890-eda050c77684",
   "metadata": {
    "tags": []
   },
   "outputs": [],
   "source": [
    "\n",
    "result_df.to_csv(r'D:\\Work\\Innmoatics\\8\\Subtitles\\data.csv', index=False)"
   ]
  },
  {
   "cell_type": "code",
   "execution_count": 2,
   "id": "c99ac855-4fad-4a7c-ac9d-3fdf01884961",
   "metadata": {
    "tags": []
   },
   "outputs": [],
   "source": [
    "import pandas as pd"
   ]
  },
  {
   "cell_type": "code",
   "execution_count": 49,
   "id": "bedf8b45-7996-4f5c-9457-0a0af38d2f15",
   "metadata": {
    "tags": []
   },
   "outputs": [],
   "source": [
    "import numpy as np"
   ]
  },
  {
   "cell_type": "code",
   "execution_count": 8,
   "id": "f311ee5b-c1be-452d-8eb1-d30798b2e7bc",
   "metadata": {
    "tags": []
   },
   "outputs": [],
   "source": [
    "import numpy as np  # Add import statement for numpy\n",
    "\n",
    "def similarity(query, df):\n",
    "    \"\"\"\n",
    "    Find the film associated with the highest cosine similarity score between a query and embeddings in a DataFrame.\n",
    "\n",
    "    Parameters:\n",
    "    - query: Query text\n",
    "    - df: DataFrame containing the embeddings and film names\n",
    "\n",
    "    Returns:\n",
    "    - Name of the film associated with the highest similarity score\n",
    "    \"\"\"\n",
    "    # Load a pre-trained Sentence Transformer model\n",
    "    model = SentenceTransformer(\"all-MiniLM-L6-v2\")\n",
    "\n",
    "    # Encode the query text into an embedding vector\n",
    "    query_embedding = model.encode([query])[0]\n",
    "\n",
    "    # Extract embeddings from the DataFrame\n",
    "    embeddings = np.array([np.mean(embedding, axis=0) for embedding in df['embedding']])\n",
    "\n",
    "    # Compute cosine similarity scores between the query embedding and all embeddings in the DataFrame\n",
    "    cosine_similarities = cosine_similarity(query_embedding.reshape(1, -1), embeddings)\n",
    "\n",
    "    # Get the index of the film with the highest similarity score\n",
    "    top_index = cosine_similarities.argmax()\n",
    "\n",
    "    # Get the film name and similarity score\n",
    "    film_name = df.loc[top_index, 'name']\n",
    "    similarity_score = cosine_similarities[0][top_index]\n",
    "\n",
    "    return film_name, similarity_score"
   ]
  },
  {
   "cell_type": "code",
   "execution_count": 9,
   "id": "d6692227-3190-45b2-8361-80a8d7a0c7f2",
   "metadata": {
    "tags": []
   },
   "outputs": [
    {
     "name": "stdin",
     "output_type": "stream",
     "text": [
      "Enter your query:  I will kill you\n"
     ]
    }
   ],
   "source": [
    "query = input(\"Enter your query: \")"
   ]
  },
  {
   "cell_type": "code",
   "execution_count": 123,
   "id": "13c9933d-cdd6-45ac-be0d-e7184b31af71",
   "metadata": {
    "tags": []
   },
   "outputs": [
    {
     "data": {
      "text/plain": [
       "(384,)"
      ]
     },
     "execution_count": 123,
     "metadata": {},
     "output_type": "execute_result"
    }
   ],
   "source": [
    "query_embedding = model.encode([query])[0]\n",
    "query_embedding.shape"
   ]
  },
  {
   "cell_type": "code",
   "execution_count": 68,
   "id": "55f016e5-bf9d-43d5-8c02-67635677888f",
   "metadata": {
    "tags": []
   },
   "outputs": [
    {
     "data": {
      "text/plain": [
       "61"
      ]
     },
     "execution_count": 68,
     "metadata": {},
     "output_type": "execute_result"
    }
   ],
   "source": [
    "embedding_size = len(result_df['embedding'][4]) \n",
    "embedding_size# Get the size from the first element"
   ]
  },
  {
   "cell_type": "code",
   "execution_count": 92,
   "id": "7042097c-0037-4224-9638-6c3ba9669fd5",
   "metadata": {
    "tags": []
   },
   "outputs": [
    {
     "name": "stdout",
     "output_type": "stream",
     "text": [
      "(33, 384)\n"
     ]
    }
   ],
   "source": [
    "print(result_df['embedding'][3].shape)"
   ]
  },
  {
   "cell_type": "code",
   "execution_count": 93,
   "id": "64aeae22-e353-4e2f-bee2-4ee4d3cc24be",
   "metadata": {
    "tags": []
   },
   "outputs": [],
   "source": [
    "result_df['embedding_col'] = result_df['embedding'].apply(lambda x: x.reshape(-1))"
   ]
  },
  {
   "cell_type": "code",
   "execution_count": 102,
   "id": "41d5e7c1-59ea-40d3-afd8-ddd35fff3f7c",
   "metadata": {
    "tags": []
   },
   "outputs": [
    {
     "name": "stdout",
     "output_type": "stream",
     "text": [
      "(4992,)\n",
      "(8832,)\n",
      "(12672,)\n"
     ]
    }
   ],
   "source": [
    "print(result_df['embedding_col'][1].shape)\n",
    "print(result_df['embedding_col'][2].shape)\n",
    "print(result_df['embedding_col'][3].shape)"
   ]
  },
  {
   "cell_type": "code",
   "execution_count": 113,
   "id": "678529d2-6ee4-4703-ba6a-32e5ef90b0dd",
   "metadata": {
    "tags": []
   },
   "outputs": [],
   "source": [
    "embeddings = np.array([np.mean(embedding, axis=0) for embedding in result_df['embedding']])"
   ]
  },
  {
   "cell_type": "code",
   "execution_count": 124,
   "id": "be227fa1-9c62-49f6-b979-c0dba8b663b8",
   "metadata": {
    "tags": []
   },
   "outputs": [],
   "source": [
    "rp = cosine_similarity(query_embedding.reshape(1, -1), embeddings)"
   ]
  },
  {
   "cell_type": "code",
   "execution_count": 125,
   "id": "666bc88f-6180-4286-85fd-06e624ff3866",
   "metadata": {
    "tags": []
   },
   "outputs": [],
   "source": [
    "max_similarity_index = rp.argmax()\n",
    "\n",
    "    # Get the name of the film associated with the highest similarity score\n",
    "film_name = result_df.loc[max_similarity_index, 'name']"
   ]
  },
  {
   "cell_type": "code",
   "execution_count": 126,
   "id": "0ceca280-565f-4b2f-900b-52d3bf529476",
   "metadata": {
    "tags": []
   },
   "outputs": [
    {
     "data": {
      "text/plain": [
       "'tooth.pari.when.love.bites.s01.e01.episode.1.1.(2023).eng.1cd'"
      ]
     },
     "execution_count": 126,
     "metadata": {},
     "output_type": "execute_result"
    }
   ],
   "source": [
    "film_name"
   ]
  },
  {
   "cell_type": "code",
   "execution_count": 130,
   "id": "3d371a1e-dfef-45d1-b624-10e470ffb460",
   "metadata": {
    "tags": []
   },
   "outputs": [],
   "source": [
    "max_similarity_index = rp.argmax()"
   ]
  },
  {
   "cell_type": "code",
   "execution_count": null,
   "id": "aac71875-fee1-4a64-a7bf-a48c7b032134",
   "metadata": {},
   "outputs": [],
   "source": [
    "import json"
   ]
  },
  {
   "cell_type": "code",
   "execution_count": 172,
   "id": "6afd470e-47d2-40c6-95da-f640d5db030c",
   "metadata": {
    "tags": []
   },
   "outputs": [],
   "source": [
    "import chromadb\n",
    "BATCH_SIZE = 1000\n",
    "\n",
    "# Establish a connection to the Chroma database\n",
    "client = chromadb.PersistentClient(path=\"search_engine_db\")\n",
    "\n",
    "# Create or get collections\n",
    "collection = client.get_or_create_collection(name=\"search_engine\", metadata={\"hnsw:space\": \"cosine\"})\n",
    "collection_file_name = client.get_or_create_collection(name=\"search_engine_FileName\", metadata={\"hnsw:space\": \"cosine\"})\n",
    "\n",
    "\n",
    "def add_file_names(result_df, collection):\n",
    "    total_batches = (result_df.shape[0] + BATCH_SIZE - 1) // BATCH_SIZE\n",
    "    for batch_start in tqdm(range(0, result_df.shape[0], BATCH_SIZE), total=total_batches):\n",
    "        batch_end = min(batch_start + BATCH_SIZE, result_df.shape[0])\n",
    "        batch_df = result_df.iloc[batch_start:batch_end]\n",
    "        for i in range(batch_df.shape[0]):\n",
    "            collection_file_name.add(\n",
    "                documents=[batch_df['name'].iloc[i]],\n",
    "                embeddings=[[1, 2, 34, 45]],  # Placeholder for embeddings\n",
    "                ids=[str(batch_df['num'].iloc[i])]\n",
    "            )\n",
    "\n",
    "def add_chunks_embeddings(result_df, collection):\n",
    "    total_batches = (result_df.shape[0] + BATCH_SIZE - 1) // BATCH_SIZE\n",
    "    for batch_start in tqdm(range(0, result_df.shape[0], BATCH_SIZE), total=total_batches):\n",
    "        batch_end = min(batch_start + BATCH_SIZE, result_df.shape[0])\n",
    "        batch_df = result_df.iloc[batch_start:batch_end]\n",
    "        for i in range(batch_df.shape[0]):\n",
    "            collection.add(\n",
    "                documents=batch_df['clean_text'].iloc[i],  # Assuming 'text_chunks' contains chunk data\n",
    "                embeddings=batch_df['embedding'].iloc[i],  # Assuming 'embedding' contains embedding data\n",
    "                ids=[str(batch_df['num'].iloc[i])]  # Unique identifier\n",
    "            )"
   ]
  },
  {
   "cell_type": "code",
   "execution_count": 171,
   "id": "76351526-d1d3-4e2d-8588-5c9351f10e0b",
   "metadata": {},
   "outputs": [
    {
     "data": {
      "text/plain": [
       "Index(['num', 'name', 'content', 'clean_text', 'text_chunks', 'embedding',\n",
       "       'embedding_col'],\n",
       "      dtype='object')"
      ]
     },
     "execution_count": 171,
     "metadata": {},
     "output_type": "execute_result"
    }
   ],
   "source": []
  },
  {
   "cell_type": "code",
   "execution_count": null,
   "id": "50aef95e-f1b3-4537-875f-2205eec91233",
   "metadata": {},
   "outputs": [],
   "source": [
    "%time add_file_names(df, collection_file_name)\n",
    "%time add_chunks_embeddings(df, collection)"
   ]
  },
  {
   "cell_type": "code",
   "execution_count": 4,
   "id": "87b5b9a5-93fc-4b2a-9281-f2e8e3aa6707",
   "metadata": {
    "tags": []
   },
   "outputs": [
    {
     "data": {
      "text/plain": [
       "Index(['num', 'name', 'content', 'clean_text', 'text_chunks', 'embedding',\n",
       "       'embedding_col'],\n",
       "      dtype='object')"
      ]
     },
     "execution_count": 4,
     "metadata": {},
     "output_type": "execute_result"
    }
   ],
   "source": [
    "result_df.columns"
   ]
  },
  {
   "cell_type": "code",
   "execution_count": 14,
   "id": "003a015e-0815-4b15-9ec2-2142e58496df",
   "metadata": {
    "tags": []
   },
   "outputs": [],
   "source": [
    "import sqlite3"
   ]
  },
  {
   "cell_type": "code",
   "execution_count": 15,
   "id": "dafb493f-dc74-4839-86ae-9f061748247c",
   "metadata": {
    "tags": []
   },
   "outputs": [
    {
     "name": "stdout",
     "output_type": "stream",
     "text": [
      "DataFrame from           num                                               name  \\\n",
      "0     9251120                     maybe.this.time.(2014).eng.1cd   \n",
      "1     9211589  down.the.shore.s01.e10.and.justice.for.all.(19...   \n",
      "2     9380845  uncontrollably.fond.s01.e07.heartache.(2016).e...   \n",
      "3     9301436  screen.two.s13.e04.the.precious.blood.(1996).e...   \n",
      "4     9408707                          battlebots.(2015).eng.1cd   \n",
      "...       ...                                                ...   \n",
      "8244  9194538  full.circle.with.michael.palin.s01.e10.mexicow...   \n",
      "8245  9461187  the.glades.s01.e05.the.girlfriend.experience.(...   \n",
      "8246  9309873  detective.conan.s01.e03.an.idols.locked.room.m...   \n",
      "8247  9255721               never.love.a.stranger.(1958).eng.1cd   \n",
      "8248  9485784  the.power.s01.e01.a.better.future.is.in.your.h...   \n",
      "\n",
      "                                                content  \\\n",
      "0     ï»¿1\\r\\n00:00:06,000 --> 00:00:12,074\\r\\nWatch...   \n",
      "1     1\\r\\n00:00:09,275 --> 00:00:11,876\\r\\n¶ Oh, I ...   \n",
      "2     1\\r\\n00:00:07,140 --> 00:00:14,220\\r\\n<i>Timin...   \n",
      "3     1\\r\\n00:00:06,133 --> 00:00:08,900\\r\\n[etherea...   \n",
      "4     ï»¿1\\r\\n00:00:01,480 --> 00:00:03,570\\r\\n[Chri...   \n",
      "...                                                 ...   \n",
      "8244  1\\r\\n00:00:06,000 --> 00:00:12,074\\r\\nWatch an...   \n",
      "8245  ï»¿1\\r\\n00:00:03,788 --> 00:00:05,120\\r\\nHey, ...   \n",
      "8246  [Script Info]\\r\\nTitle: English (US)\\r\\nOrigin...   \n",
      "8247  ï»¿1\\r\\n00:00:04,000 --> 00:00:07,682\\r\\nLife ...   \n",
      "8248  ï»¿1\\r\\n00:00:06,000 --> 00:00:12,074\\r\\nAdver...   \n",
      "\n",
      "                                             clean_text  \\\n",
      "0     watch any video online with open subtitle free...   \n",
      "1     oh i know that it s getting late but i don t w...   \n",
      "2     timing and subtitle by the uncontrollable love...   \n",
      "3     ethereal music api opensubtitles org is deprec...   \n",
      "4     chris oh no not the minibots yelling oh you le...   \n",
      "...                                                 ...   \n",
      "8244  watch any video online with open subtitle free...   \n",
      "8245  hey twizzle meow hey twizzle twizzle what is i...   \n",
      "8246  script info title english u original script tm...   \n",
      "8247  life is the span that link the eternity what h...   \n",
      "8248  advertise your product or brand here contact w...   \n",
      "\n",
      "                                            text_chunks  \\\n",
      "0     ['watch any video online with open subtitle fr...   \n",
      "1     ['oh i know that it s getting late but i don t...   \n",
      "2     ['timing and subtitle by the uncontrollable lo...   \n",
      "3     ['ethereal music api opensubtitles org is depr...   \n",
      "4     ['chris oh no not the minibots yelling oh you ...   \n",
      "...                                                 ...   \n",
      "8244  ['watch any video online with open subtitle fr...   \n",
      "8245  ['hey twizzle meow hey twizzle twizzle what is...   \n",
      "8246  ['script info title english u original script ...   \n",
      "8247  ['life is the span that link the eternity what...   \n",
      "8248  ['advertise your product or brand here contact...   \n",
      "\n",
      "                                              embedding  \\\n",
      "0     [[-0.1141953244805336, -0.1392594873905182, 0....   \n",
      "1     [[0.021225374191999435, -0.07874070852994919, ...   \n",
      "2     [[-0.06472977250814438, -0.01762707717716694, ...   \n",
      "3     [[-0.018442468717694283, -0.03148653358221054,...   \n",
      "4     [[-0.07381656765937805, -0.009854691103100777,...   \n",
      "...                                                 ...   \n",
      "8244  [[-0.05893239751458168, -0.016531003639101982,...   \n",
      "8245  [[-0.010339349508285522, -0.004711535293608904...   \n",
      "8246  [[0.02994290366768837, 0.011543401516973972, 0...   \n",
      "8247  [[-0.09073925763368607, 0.0230556670576334, -0...   \n",
      "8248  [[-0.022329706698656082, -0.10574871301651001,...   \n",
      "\n",
      "                                          embedding_col  \n",
      "0     [-0.11419532 -0.13925949  0.0321585  ...  0.04...  \n",
      "1     [ 0.02122537 -0.07874071 -0.02534395 ... -0.05...  \n",
      "2     [-0.06472977 -0.01762708  0.0218876  ... -0.01...  \n",
      "3     [-0.01844247 -0.03148653 -0.03125799 ... -0.04...  \n",
      "4     [-0.07381657 -0.00985469 -0.00446853 ... -0.02...  \n",
      "...                                                 ...  \n",
      "8244  [-0.0589324  -0.016531   -0.01990367 ... -0.01...  \n",
      "8245  [-0.01033935 -0.00471154  0.05697281 ...  0.12...  \n",
      "8246  [ 0.0299429   0.0115434   0.00909832 ...  0.12...  \n",
      "8247  [-0.09073926  0.02305567 -0.0679414  ...  0.07...  \n",
      "8248  [-2.2329707e-02 -1.0574871e-01  3.9758917e-02 ...  \n",
      "\n",
      "[8249 rows x 7 columns] is successfully saved to ChromaDB using SQLite: chromadb.db\n"
     ]
    }
   ],
   "source": [
    "\n",
    "path = 'chromadb.db'\n",
    "conn = sqlite3.connect(path)\n",
    "\n",
    "result_df.to_sql(\"film_data\", conn, if_exists=\"replace\", index=False)\n",
    "\n",
    "print(f\"DataFrame from {result_df} is successfully saved to ChromaDB using SQLite: {path}\")"
   ]
  },
  {
   "cell_type": "code",
   "execution_count": 6,
   "id": "a62e27e9-91f8-45a8-b8b0-ff24112dbc17",
   "metadata": {
    "tags": []
   },
   "outputs": [],
   "source": [
    "import sqlite3\n",
    "\n",
    "# Connect to the SQLite database\n",
    "path = 'chromadb.db'\n",
    "conn = sqlite3.connect(path)\n",
    "dt = 'SELECT * FROM film_data'\n",
    "file = pd.read_sql(dt, conn)\n",
    "conn.close()"
   ]
  },
  {
   "cell_type": "code",
   "execution_count": 2,
   "id": "7a77ac05-7d29-448d-ba78-4aa82e038fa2",
   "metadata": {
    "tags": []
   },
   "outputs": [],
   "source": [
    "import pandas as pd"
   ]
  },
  {
   "cell_type": "code",
   "execution_count": 7,
   "id": "6cd0b625-fbbb-487f-ae6c-966919103052",
   "metadata": {
    "tags": []
   },
   "outputs": [
    {
     "data": {
      "text/html": [
       "<div>\n",
       "<style scoped>\n",
       "    .dataframe tbody tr th:only-of-type {\n",
       "        vertical-align: middle;\n",
       "    }\n",
       "\n",
       "    .dataframe tbody tr th {\n",
       "        vertical-align: top;\n",
       "    }\n",
       "\n",
       "    .dataframe thead th {\n",
       "        text-align: right;\n",
       "    }\n",
       "</style>\n",
       "<table border=\"1\" class=\"dataframe\">\n",
       "  <thead>\n",
       "    <tr style=\"text-align: right;\">\n",
       "      <th></th>\n",
       "      <th>num</th>\n",
       "      <th>name</th>\n",
       "      <th>content</th>\n",
       "      <th>clean_text</th>\n",
       "      <th>text_chunks</th>\n",
       "      <th>embedding</th>\n",
       "      <th>embedding_col</th>\n",
       "    </tr>\n",
       "  </thead>\n",
       "  <tbody>\n",
       "    <tr>\n",
       "      <th>0</th>\n",
       "      <td>9251120</td>\n",
       "      <td>maybe.this.time.(2014).eng.1cd</td>\n",
       "      <td>ï»¿1\\r\\n00:00:06,000 --&gt; 00:00:12,074\\r\\nWatch...</td>\n",
       "      <td>watch any video online with open subtitle free...</td>\n",
       "      <td>['watch any video online with open subtitle fr...</td>\n",
       "      <td>[[-0.1141953244805336, -0.1392594873905182, 0....</td>\n",
       "      <td>[-0.11419532 -0.13925949  0.0321585  ...  0.04...</td>\n",
       "    </tr>\n",
       "    <tr>\n",
       "      <th>1</th>\n",
       "      <td>9211589</td>\n",
       "      <td>down.the.shore.s01.e10.and.justice.for.all.(19...</td>\n",
       "      <td>1\\r\\n00:00:09,275 --&gt; 00:00:11,876\\r\\n¶ Oh, I ...</td>\n",
       "      <td>oh i know that it s getting late but i don t w...</td>\n",
       "      <td>['oh i know that it s getting late but i don t...</td>\n",
       "      <td>[[0.021225374191999435, -0.07874070852994919, ...</td>\n",
       "      <td>[ 0.02122537 -0.07874071 -0.02534395 ... -0.05...</td>\n",
       "    </tr>\n",
       "    <tr>\n",
       "      <th>2</th>\n",
       "      <td>9380845</td>\n",
       "      <td>uncontrollably.fond.s01.e07.heartache.(2016).e...</td>\n",
       "      <td>1\\r\\n00:00:07,140 --&gt; 00:00:14,220\\r\\n&lt;i&gt;Timin...</td>\n",
       "      <td>timing and subtitle by the uncontrollable love...</td>\n",
       "      <td>['timing and subtitle by the uncontrollable lo...</td>\n",
       "      <td>[[-0.06472977250814438, -0.01762707717716694, ...</td>\n",
       "      <td>[-0.06472977 -0.01762708  0.0218876  ... -0.01...</td>\n",
       "    </tr>\n",
       "    <tr>\n",
       "      <th>3</th>\n",
       "      <td>9301436</td>\n",
       "      <td>screen.two.s13.e04.the.precious.blood.(1996).e...</td>\n",
       "      <td>1\\r\\n00:00:06,133 --&gt; 00:00:08,900\\r\\n[etherea...</td>\n",
       "      <td>ethereal music api opensubtitles org is deprec...</td>\n",
       "      <td>['ethereal music api opensubtitles org is depr...</td>\n",
       "      <td>[[-0.018442468717694283, -0.03148653358221054,...</td>\n",
       "      <td>[-0.01844247 -0.03148653 -0.03125799 ... -0.04...</td>\n",
       "    </tr>\n",
       "    <tr>\n",
       "      <th>4</th>\n",
       "      <td>9408707</td>\n",
       "      <td>battlebots.(2015).eng.1cd</td>\n",
       "      <td>ï»¿1\\r\\n00:00:01,480 --&gt; 00:00:03,570\\r\\n[Chri...</td>\n",
       "      <td>chris oh no not the minibots yelling oh you le...</td>\n",
       "      <td>['chris oh no not the minibots yelling oh you ...</td>\n",
       "      <td>[[-0.07381656765937805, -0.009854691103100777,...</td>\n",
       "      <td>[-0.07381657 -0.00985469 -0.00446853 ... -0.02...</td>\n",
       "    </tr>\n",
       "    <tr>\n",
       "      <th>5</th>\n",
       "      <td>9497041</td>\n",
       "      <td>csi.crime.scene.investigation.s08.e16.two.and....</td>\n",
       "      <td>ï»¿1\\r\\n00:00:07,358 --&gt; 00:00:09,708\\r\\nAre y...</td>\n",
       "      <td>are you afraid of vagina spencer no i m actual...</td>\n",
       "      <td>['are you afraid of vagina spencer no i m actu...</td>\n",
       "      <td>[[-0.09531142562627792, -0.12607233226299286, ...</td>\n",
       "      <td>[-0.09531143 -0.12607233  0.01084568 ...  0.02...</td>\n",
       "    </tr>\n",
       "    <tr>\n",
       "      <th>6</th>\n",
       "      <td>9480949</td>\n",
       "      <td>royal.ashes.().eng.1cd</td>\n",
       "      <td>ï»¿1\\r\\n00:02:12,100 --&gt; 00:02:14,569\\r\\n- Hol...</td>\n",
       "      <td>hold the ketchup and onion on that burger medi...</td>\n",
       "      <td>['hold the ketchup and onion on that burger me...</td>\n",
       "      <td>[[-0.021991200745105743, -0.01439964585006237,...</td>\n",
       "      <td>[-0.0219912  -0.01439965  0.01216505 ...  0.01...</td>\n",
       "    </tr>\n",
       "    <tr>\n",
       "      <th>7</th>\n",
       "      <td>9519904</td>\n",
       "      <td>return.to.seoul.(2022).eng.1cd</td>\n",
       "      <td>ï»¿1\\r\\n00:00:06,000 --&gt; 00:00:12,074\\r\\nAdver...</td>\n",
       "      <td>advertise your product or brand here contact w...</td>\n",
       "      <td>['advertise your product or brand here contact...</td>\n",
       "      <td>[[-0.04452212154865265, -0.004781835246831179,...</td>\n",
       "      <td>[-0.04452212 -0.00478184  0.04650505 ...  0.09...</td>\n",
       "    </tr>\n",
       "    <tr>\n",
       "      <th>8</th>\n",
       "      <td>9519595</td>\n",
       "      <td>idris.elba.king.of.speed.s01.e02.episode.1.2.(...</td>\n",
       "      <td>1\\r\\n00:00:02,400 --&gt; 00:00:03,230\\r\\n- When I...</td>\n",
       "      <td>when i wa six year old i used to sit in the ba...</td>\n",
       "      <td>['when i wa six year old i used to sit in the ...</td>\n",
       "      <td>[[-0.01753728836774826, 0.034720197319984436, ...</td>\n",
       "      <td>[-0.01753729  0.0347202  -0.01758281 ...  0.03...</td>\n",
       "    </tr>\n",
       "    <tr>\n",
       "      <th>9</th>\n",
       "      <td>9512716</td>\n",
       "      <td>tooth.pari.when.love.bites.s01.e08.episode.1.8...</td>\n",
       "      <td>1\\r\\n00:00:06,541 --&gt; 00:00:08,375\\r\\n[metal c...</td>\n",
       "      <td>metal creaking the path of love eventually end...</td>\n",
       "      <td>['metal creaking the path of love eventually e...</td>\n",
       "      <td>[[-0.07261285185813904, -0.051559947431087494,...</td>\n",
       "      <td>[-0.07261285 -0.05155995  0.0311648  ... -0.09...</td>\n",
       "    </tr>\n",
       "  </tbody>\n",
       "</table>\n",
       "</div>"
      ],
      "text/plain": [
       "       num                                               name  \\\n",
       "0  9251120                     maybe.this.time.(2014).eng.1cd   \n",
       "1  9211589  down.the.shore.s01.e10.and.justice.for.all.(19...   \n",
       "2  9380845  uncontrollably.fond.s01.e07.heartache.(2016).e...   \n",
       "3  9301436  screen.two.s13.e04.the.precious.blood.(1996).e...   \n",
       "4  9408707                          battlebots.(2015).eng.1cd   \n",
       "5  9497041  csi.crime.scene.investigation.s08.e16.two.and....   \n",
       "6  9480949                             royal.ashes.().eng.1cd   \n",
       "7  9519904                     return.to.seoul.(2022).eng.1cd   \n",
       "8  9519595  idris.elba.king.of.speed.s01.e02.episode.1.2.(...   \n",
       "9  9512716  tooth.pari.when.love.bites.s01.e08.episode.1.8...   \n",
       "\n",
       "                                             content  \\\n",
       "0  ï»¿1\\r\\n00:00:06,000 --> 00:00:12,074\\r\\nWatch...   \n",
       "1  1\\r\\n00:00:09,275 --> 00:00:11,876\\r\\n¶ Oh, I ...   \n",
       "2  1\\r\\n00:00:07,140 --> 00:00:14,220\\r\\n<i>Timin...   \n",
       "3  1\\r\\n00:00:06,133 --> 00:00:08,900\\r\\n[etherea...   \n",
       "4  ï»¿1\\r\\n00:00:01,480 --> 00:00:03,570\\r\\n[Chri...   \n",
       "5  ï»¿1\\r\\n00:00:07,358 --> 00:00:09,708\\r\\nAre y...   \n",
       "6  ï»¿1\\r\\n00:02:12,100 --> 00:02:14,569\\r\\n- Hol...   \n",
       "7  ï»¿1\\r\\n00:00:06,000 --> 00:00:12,074\\r\\nAdver...   \n",
       "8  1\\r\\n00:00:02,400 --> 00:00:03,230\\r\\n- When I...   \n",
       "9  1\\r\\n00:00:06,541 --> 00:00:08,375\\r\\n[metal c...   \n",
       "\n",
       "                                          clean_text  \\\n",
       "0  watch any video online with open subtitle free...   \n",
       "1  oh i know that it s getting late but i don t w...   \n",
       "2  timing and subtitle by the uncontrollable love...   \n",
       "3  ethereal music api opensubtitles org is deprec...   \n",
       "4  chris oh no not the minibots yelling oh you le...   \n",
       "5  are you afraid of vagina spencer no i m actual...   \n",
       "6  hold the ketchup and onion on that burger medi...   \n",
       "7  advertise your product or brand here contact w...   \n",
       "8  when i wa six year old i used to sit in the ba...   \n",
       "9  metal creaking the path of love eventually end...   \n",
       "\n",
       "                                         text_chunks  \\\n",
       "0  ['watch any video online with open subtitle fr...   \n",
       "1  ['oh i know that it s getting late but i don t...   \n",
       "2  ['timing and subtitle by the uncontrollable lo...   \n",
       "3  ['ethereal music api opensubtitles org is depr...   \n",
       "4  ['chris oh no not the minibots yelling oh you ...   \n",
       "5  ['are you afraid of vagina spencer no i m actu...   \n",
       "6  ['hold the ketchup and onion on that burger me...   \n",
       "7  ['advertise your product or brand here contact...   \n",
       "8  ['when i wa six year old i used to sit in the ...   \n",
       "9  ['metal creaking the path of love eventually e...   \n",
       "\n",
       "                                           embedding  \\\n",
       "0  [[-0.1141953244805336, -0.1392594873905182, 0....   \n",
       "1  [[0.021225374191999435, -0.07874070852994919, ...   \n",
       "2  [[-0.06472977250814438, -0.01762707717716694, ...   \n",
       "3  [[-0.018442468717694283, -0.03148653358221054,...   \n",
       "4  [[-0.07381656765937805, -0.009854691103100777,...   \n",
       "5  [[-0.09531142562627792, -0.12607233226299286, ...   \n",
       "6  [[-0.021991200745105743, -0.01439964585006237,...   \n",
       "7  [[-0.04452212154865265, -0.004781835246831179,...   \n",
       "8  [[-0.01753728836774826, 0.034720197319984436, ...   \n",
       "9  [[-0.07261285185813904, -0.051559947431087494,...   \n",
       "\n",
       "                                       embedding_col  \n",
       "0  [-0.11419532 -0.13925949  0.0321585  ...  0.04...  \n",
       "1  [ 0.02122537 -0.07874071 -0.02534395 ... -0.05...  \n",
       "2  [-0.06472977 -0.01762708  0.0218876  ... -0.01...  \n",
       "3  [-0.01844247 -0.03148653 -0.03125799 ... -0.04...  \n",
       "4  [-0.07381657 -0.00985469 -0.00446853 ... -0.02...  \n",
       "5  [-0.09531143 -0.12607233  0.01084568 ...  0.02...  \n",
       "6  [-0.0219912  -0.01439965  0.01216505 ...  0.01...  \n",
       "7  [-0.04452212 -0.00478184  0.04650505 ...  0.09...  \n",
       "8  [-0.01753729  0.0347202  -0.01758281 ...  0.03...  \n",
       "9  [-0.07261285 -0.05155995  0.0311648  ... -0.09...  "
      ]
     },
     "execution_count": 7,
     "metadata": {},
     "output_type": "execute_result"
    }
   ],
   "source": [
    "file.head(10)"
   ]
  },
  {
   "cell_type": "code",
   "execution_count": 18,
   "id": "a95157de-69ee-48ba-8126-c74bd47d8b7e",
   "metadata": {
    "tags": []
   },
   "outputs": [
    {
     "name": "stdout",
     "output_type": "stream",
     "text": [
      "Chromadb.db file has been successfully downloaded to: D:\\Work\\Innmoatics\\searchengine\\Subtitles\\chromadb.db\n"
     ]
    }
   ],
   "source": [
    "import shutil\n",
    "import os\n",
    "\n",
    "# Define the source path of the chromadb.db file\n",
    "source_path = 'chromadb.db'\n",
    "\n",
    "# Define the destination directory where you want to save the downloaded file\n",
    "destination_directory = r'D:\\Work\\Innmoatics\\searchengine\\Subtitles'\n",
    "\n",
    "# Check if the destination directory exists, if not, create it\n",
    "if not os.path.exists(destination_directory):\n",
    "    os.makedirs(destination_directory)\n",
    "\n",
    "# Define the destination path where you want to save the file\n",
    "destination_path = os.path.join(destination_directory, 'chromadb.db')\n",
    "\n",
    "# Copy the chromadb.db file to the destination directory\n",
    "shutil.copyfile(source_path, destination_path)\n",
    "\n",
    "# Print a message to confirm that the file has been successfully downloaded\n",
    "print(f\"Chromadb.db file has been successfully downloaded to: {destination_path}\")\n"
   ]
  },
  {
   "cell_type": "code",
   "execution_count": 4,
   "id": "57e89520-6efc-4cc1-8316-db628a0ec31a",
   "metadata": {
    "tags": []
   },
   "outputs": [],
   "source": [
    "columns_to_drop = ['content', 'text_chunks', 'embedding_col']\n",
    "result_df.drop(columns=columns_to_drop, inplace=True)"
   ]
  },
  {
   "cell_type": "code",
   "execution_count": 5,
   "id": "8b39a759-b11b-4d31-8ddf-0f4286f129d2",
   "metadata": {
    "tags": []
   },
   "outputs": [
    {
     "data": {
      "text/html": [
       "<div>\n",
       "<style scoped>\n",
       "    .dataframe tbody tr th:only-of-type {\n",
       "        vertical-align: middle;\n",
       "    }\n",
       "\n",
       "    .dataframe tbody tr th {\n",
       "        vertical-align: top;\n",
       "    }\n",
       "\n",
       "    .dataframe thead th {\n",
       "        text-align: right;\n",
       "    }\n",
       "</style>\n",
       "<table border=\"1\" class=\"dataframe\">\n",
       "  <thead>\n",
       "    <tr style=\"text-align: right;\">\n",
       "      <th></th>\n",
       "      <th>num</th>\n",
       "      <th>name</th>\n",
       "      <th>clean_text</th>\n",
       "      <th>embedding</th>\n",
       "    </tr>\n",
       "  </thead>\n",
       "  <tbody>\n",
       "    <tr>\n",
       "      <th>0</th>\n",
       "      <td>9251120</td>\n",
       "      <td>maybe.this.time.(2014).eng.1cd</td>\n",
       "      <td>watch any video online with open subtitle free...</td>\n",
       "      <td>[[-0.1141953244805336, -0.1392594873905182, 0....</td>\n",
       "    </tr>\n",
       "    <tr>\n",
       "      <th>1</th>\n",
       "      <td>9211589</td>\n",
       "      <td>down.the.shore.s01.e10.and.justice.for.all.(19...</td>\n",
       "      <td>oh i know that it s getting late but i don t w...</td>\n",
       "      <td>[[0.021225374191999435, -0.07874070852994919, ...</td>\n",
       "    </tr>\n",
       "    <tr>\n",
       "      <th>2</th>\n",
       "      <td>9380845</td>\n",
       "      <td>uncontrollably.fond.s01.e07.heartache.(2016).e...</td>\n",
       "      <td>timing and subtitle by the uncontrollable love...</td>\n",
       "      <td>[[-0.06472977250814438, -0.01762707717716694, ...</td>\n",
       "    </tr>\n",
       "    <tr>\n",
       "      <th>3</th>\n",
       "      <td>9301436</td>\n",
       "      <td>screen.two.s13.e04.the.precious.blood.(1996).e...</td>\n",
       "      <td>ethereal music api opensubtitles org is deprec...</td>\n",
       "      <td>[[-0.018442468717694283, -0.03148653358221054,...</td>\n",
       "    </tr>\n",
       "    <tr>\n",
       "      <th>4</th>\n",
       "      <td>9408707</td>\n",
       "      <td>battlebots.(2015).eng.1cd</td>\n",
       "      <td>chris oh no not the minibots yelling oh you le...</td>\n",
       "      <td>[[-0.07381656765937805, -0.009854691103100777,...</td>\n",
       "    </tr>\n",
       "  </tbody>\n",
       "</table>\n",
       "</div>"
      ],
      "text/plain": [
       "       num                                               name  \\\n",
       "0  9251120                     maybe.this.time.(2014).eng.1cd   \n",
       "1  9211589  down.the.shore.s01.e10.and.justice.for.all.(19...   \n",
       "2  9380845  uncontrollably.fond.s01.e07.heartache.(2016).e...   \n",
       "3  9301436  screen.two.s13.e04.the.precious.blood.(1996).e...   \n",
       "4  9408707                          battlebots.(2015).eng.1cd   \n",
       "\n",
       "                                          clean_text  \\\n",
       "0  watch any video online with open subtitle free...   \n",
       "1  oh i know that it s getting late but i don t w...   \n",
       "2  timing and subtitle by the uncontrollable love...   \n",
       "3  ethereal music api opensubtitles org is deprec...   \n",
       "4  chris oh no not the minibots yelling oh you le...   \n",
       "\n",
       "                                           embedding  \n",
       "0  [[-0.1141953244805336, -0.1392594873905182, 0....  \n",
       "1  [[0.021225374191999435, -0.07874070852994919, ...  \n",
       "2  [[-0.06472977250814438, -0.01762707717716694, ...  \n",
       "3  [[-0.018442468717694283, -0.03148653358221054,...  \n",
       "4  [[-0.07381656765937805, -0.009854691103100777,...  "
      ]
     },
     "execution_count": 5,
     "metadata": {},
     "output_type": "execute_result"
    }
   ],
   "source": [
    "result_df.head(5)"
   ]
  },
  {
   "cell_type": "code",
   "execution_count": 7,
   "id": "11fd50e6-015a-4e9d-a128-d0f44e26c6fe",
   "metadata": {
    "tags": []
   },
   "outputs": [],
   "source": [
    "result_df.to_csv(r'D:\\Work\\Innmoatics\\searchengine\\Subtitles\\data2.csv')"
   ]
  },
  {
   "cell_type": "code",
   "execution_count": 4,
   "id": "e6a413bb-6cdd-42e9-8354-834e181b4c70",
   "metadata": {
    "tags": []
   },
   "outputs": [],
   "source": [
    "result_df = pd.read_csv(r'D:\\Work\\Innmoatics\\searchengine\\Subtitles\\data2.csv')"
   ]
  },
  {
   "cell_type": "code",
   "execution_count": 5,
   "id": "0ee6352b-52c8-4f62-930d-3af95c1c5dfb",
   "metadata": {},
   "outputs": [
    {
     "name": "stdout",
     "output_type": "stream",
     "text": [
      "DataFrame from       Unnamed: 0      num                                               name  \\\n",
      "0              0  9251120                     maybe.this.time.(2014).eng.1cd   \n",
      "1              1  9211589  down.the.shore.s01.e10.and.justice.for.all.(19...   \n",
      "2              2  9380845  uncontrollably.fond.s01.e07.heartache.(2016).e...   \n",
      "3              3  9301436  screen.two.s13.e04.the.precious.blood.(1996).e...   \n",
      "4              4  9408707                          battlebots.(2015).eng.1cd   \n",
      "...          ...      ...                                                ...   \n",
      "8244        8244  9194538  full.circle.with.michael.palin.s01.e10.mexicow...   \n",
      "8245        8245  9461187  the.glades.s01.e05.the.girlfriend.experience.(...   \n",
      "8246        8246  9309873  detective.conan.s01.e03.an.idols.locked.room.m...   \n",
      "8247        8247  9255721               never.love.a.stranger.(1958).eng.1cd   \n",
      "8248        8248  9485784  the.power.s01.e01.a.better.future.is.in.your.h...   \n",
      "\n",
      "                                             clean_text  \\\n",
      "0     watch any video online with open subtitle free...   \n",
      "1     oh i know that it s getting late but i don t w...   \n",
      "2     timing and subtitle by the uncontrollable love...   \n",
      "3     ethereal music api opensubtitles org is deprec...   \n",
      "4     chris oh no not the minibots yelling oh you le...   \n",
      "...                                                 ...   \n",
      "8244  watch any video online with open subtitle free...   \n",
      "8245  hey twizzle meow hey twizzle twizzle what is i...   \n",
      "8246  script info title english u original script tm...   \n",
      "8247  life is the span that link the eternity what h...   \n",
      "8248  advertise your product or brand here contact w...   \n",
      "\n",
      "                                              embedding  \n",
      "0     [[-0.1141953244805336, -0.1392594873905182, 0....  \n",
      "1     [[0.021225374191999435, -0.07874070852994919, ...  \n",
      "2     [[-0.06472977250814438, -0.01762707717716694, ...  \n",
      "3     [[-0.018442468717694283, -0.03148653358221054,...  \n",
      "4     [[-0.07381656765937805, -0.009854691103100777,...  \n",
      "...                                                 ...  \n",
      "8244  [[-0.05893239751458168, -0.016531003639101982,...  \n",
      "8245  [[-0.010339349508285522, -0.004711535293608904...  \n",
      "8246  [[0.02994290366768837, 0.011543401516973972, 0...  \n",
      "8247  [[-0.09073925763368607, 0.0230556670576334, -0...  \n",
      "8248  [[-0.022329706698656082, -0.10574871301651001,...  \n",
      "\n",
      "[8249 rows x 5 columns] is successfully saved to ChromaDB using SQLite: chromadb.db\n"
     ]
    }
   ],
   "source": [
    "import sqlite3\n",
    "path = 'chromadb.db'\n",
    "conn = sqlite3.connect(path)\n",
    "\n",
    "result_df.to_sql(\"film_data\", conn, if_exists=\"replace\", index=False)\n",
    "\n",
    "print(f\"DataFrame from {result_df} is successfully saved to ChromaDB using SQLite: {path}\")"
   ]
  }
 ],
 "metadata": {
  "kernelspec": {
   "display_name": "Python 3 (ipykernel)",
   "language": "python",
   "name": "python3"
  },
  "language_info": {
   "codemirror_mode": {
    "name": "ipython",
    "version": 3
   },
   "file_extension": ".py",
   "mimetype": "text/x-python",
   "name": "python",
   "nbconvert_exporter": "python",
   "pygments_lexer": "ipython3",
   "version": "3.11.8"
  }
 },
 "nbformat": 4,
 "nbformat_minor": 5
}
